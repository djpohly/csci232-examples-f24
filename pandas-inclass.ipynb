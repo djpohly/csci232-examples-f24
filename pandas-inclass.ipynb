{
 "cells": [
  {
   "cell_type": "code",
   "execution_count": 1,
   "id": "323155ff-a1cf-40c9-8538-6abd4bf5a43d",
   "metadata": {},
   "outputs": [],
   "source": [
    "import numpy as np\n",
    "import pandas as pd"
   ]
  },
  {
   "cell_type": "code",
   "execution_count": 2,
   "id": "ffa84d71-f843-4be0-9955-651f754f4e9a",
   "metadata": {},
   "outputs": [
    {
     "data": {
      "text/plain": [
       "0     2\n",
       "1     3\n",
       "2     5\n",
       "3     7\n",
       "4    11\n",
       "dtype: int64"
      ]
     },
     "execution_count": 2,
     "metadata": {},
     "output_type": "execute_result"
    }
   ],
   "source": [
    "nums = [2, 3, 5, 7, 11]\n",
    "ser = pd.Series(nums)\n",
    "ser"
   ]
  },
  {
   "cell_type": "code",
   "execution_count": 3,
   "id": "92c0fa71-41ea-4db7-a89d-4eb79b1e6c76",
   "metadata": {},
   "outputs": [],
   "source": [
    "strser = pd.Series(\"hello\")"
   ]
  },
  {
   "cell_type": "code",
   "execution_count": 4,
   "id": "d881efb8-a49c-49c7-b684-b89932a02197",
   "metadata": {},
   "outputs": [
    {
     "data": {
      "text/plain": [
       "0    hello\n",
       "dtype: object"
      ]
     },
     "execution_count": 4,
     "metadata": {},
     "output_type": "execute_result"
    }
   ],
   "source": [
    "strser"
   ]
  },
  {
   "cell_type": "code",
   "execution_count": 5,
   "id": "431208b9-d566-4264-be25-f79684f169bb",
   "metadata": {},
   "outputs": [
    {
     "data": {
      "text/plain": [
       "np.int64(2)"
      ]
     },
     "execution_count": 5,
     "metadata": {},
     "output_type": "execute_result"
    }
   ],
   "source": [
    "ser[0]"
   ]
  },
  {
   "cell_type": "code",
   "execution_count": 6,
   "id": "e102b15a-d8ce-478e-9566-f05db533cd3e",
   "metadata": {},
   "outputs": [
    {
     "data": {
      "text/plain": [
       "np.int64(20)"
      ]
     },
     "execution_count": 6,
     "metadata": {},
     "output_type": "execute_result"
    }
   ],
   "source": [
    "ser[0] * 10"
   ]
  },
  {
   "cell_type": "code",
   "execution_count": 7,
   "id": "538085e7-ed10-4994-a04d-ac3b09183edb",
   "metadata": {},
   "outputs": [
    {
     "data": {
      "text/plain": [
       "0    2\n",
       "1    3\n",
       "2    5\n",
       "dtype: int64"
      ]
     },
     "execution_count": 7,
     "metadata": {},
     "output_type": "execute_result"
    }
   ],
   "source": [
    "ser[:3]"
   ]
  },
  {
   "cell_type": "code",
   "execution_count": 8,
   "id": "1be5b77e-1e1d-4a01-8fb9-0a38f745e346",
   "metadata": {},
   "outputs": [
    {
     "data": {
      "text/plain": [
       "0     4\n",
       "1     6\n",
       "2    10\n",
       "3    14\n",
       "4    22\n",
       "dtype: int64"
      ]
     },
     "execution_count": 8,
     "metadata": {},
     "output_type": "execute_result"
    }
   ],
   "source": [
    "ser + ser"
   ]
  },
  {
   "cell_type": "code",
   "execution_count": 9,
   "id": "8015f5b4-6235-4cf0-b59f-0fb5e0220ad4",
   "metadata": {},
   "outputs": [
    {
     "data": {
      "text/plain": [
       "RangeIndex(start=0, stop=5, step=1)"
      ]
     },
     "execution_count": 9,
     "metadata": {},
     "output_type": "execute_result"
    }
   ],
   "source": [
    "ser.index"
   ]
  },
  {
   "cell_type": "code",
   "execution_count": 10,
   "id": "80f6c26f-b7c6-4cc0-bac7-f475cb02c567",
   "metadata": {},
   "outputs": [
    {
     "data": {
      "text/plain": [
       "name           Bob\n",
       "age             29\n",
       "hometown    Aurora\n",
       "dtype: object"
      ]
     },
     "execution_count": 10,
     "metadata": {},
     "output_type": "execute_result"
    }
   ],
   "source": [
    "ser = pd.Series({\"name\": \"Bob\", \"age\": 29, \"hometown\": \"Aurora\"})\n",
    "ser"
   ]
  },
  {
   "cell_type": "code",
   "execution_count": 11,
   "id": "90721216-8306-42ae-9529-2f7bd83d4537",
   "metadata": {},
   "outputs": [
    {
     "data": {
      "text/plain": [
       "Index(['name', 'age', 'hometown'], dtype='object')"
      ]
     },
     "execution_count": 11,
     "metadata": {},
     "output_type": "execute_result"
    }
   ],
   "source": [
    "ser.index"
   ]
  },
  {
   "cell_type": "code",
   "execution_count": 12,
   "id": "9598832e-2d2c-4d23-bfdb-06a3ab59b85f",
   "metadata": {},
   "outputs": [
    {
     "data": {
      "text/plain": [
       "'Bob'"
      ]
     },
     "execution_count": 12,
     "metadata": {},
     "output_type": "execute_result"
    }
   ],
   "source": [
    "ser[\"name\"]"
   ]
  },
  {
   "cell_type": "code",
   "execution_count": 13,
   "id": "73184090-56ca-4867-87b0-3a3ea762445b",
   "metadata": {},
   "outputs": [
    {
     "data": {
      "text/plain": [
       "name              BobBob\n",
       "age                   58\n",
       "hometown    AuroraAurora\n",
       "dtype: object"
      ]
     },
     "execution_count": 13,
     "metadata": {},
     "output_type": "execute_result"
    }
   ],
   "source": [
    "ser + ser"
   ]
  },
  {
   "cell_type": "code",
   "execution_count": 14,
   "id": "18f25af0-7cc2-4048-95bb-90df3804f8ea",
   "metadata": {},
   "outputs": [],
   "source": [
    "ser2 = pd.Series({\"name\": \"Catherine\", \"hometown\": \"Villa Park\"})"
   ]
  },
  {
   "cell_type": "code",
   "execution_count": 15,
   "id": "9510c172-4bbe-48b6-b5df-d2b269a2b948",
   "metadata": {},
   "outputs": [
    {
     "data": {
      "text/plain": [
       "name         Catherine\n",
       "hometown    Villa Park\n",
       "dtype: object"
      ]
     },
     "execution_count": 15,
     "metadata": {},
     "output_type": "execute_result"
    }
   ],
   "source": [
    "ser2"
   ]
  },
  {
   "cell_type": "code",
   "execution_count": 16,
   "id": "aac5e873-8e0f-4f88-990d-ed1284ab4fe8",
   "metadata": {},
   "outputs": [
    {
     "data": {
      "text/plain": [
       "age                      NaN\n",
       "hometown    AuroraVilla Park\n",
       "name            BobCatherine\n",
       "dtype: object"
      ]
     },
     "execution_count": 16,
     "metadata": {},
     "output_type": "execute_result"
    }
   ],
   "source": [
    "ser + ser2"
   ]
  },
  {
   "cell_type": "code",
   "execution_count": 17,
   "id": "d1188ddc-332b-4793-94fc-9497fbce4ae7",
   "metadata": {},
   "outputs": [
    {
     "data": {
      "text/plain": [
       "nan"
      ]
     },
     "execution_count": 17,
     "metadata": {},
     "output_type": "execute_result"
    }
   ],
   "source": [
    "np.nan"
   ]
  },
  {
   "cell_type": "code",
   "execution_count": 18,
   "id": "b46911b8-1b3f-41a0-b776-d38729271dba",
   "metadata": {},
   "outputs": [
    {
     "data": {
      "text/html": [
       "<div>\n",
       "<style scoped>\n",
       "    .dataframe tbody tr th:only-of-type {\n",
       "        vertical-align: middle;\n",
       "    }\n",
       "\n",
       "    .dataframe tbody tr th {\n",
       "        vertical-align: top;\n",
       "    }\n",
       "\n",
       "    .dataframe thead th {\n",
       "        text-align: right;\n",
       "    }\n",
       "</style>\n",
       "<table border=\"1\" class=\"dataframe\">\n",
       "  <thead>\n",
       "    <tr style=\"text-align: right;\">\n",
       "      <th></th>\n",
       "      <th>City</th>\n",
       "      <th>State</th>\n",
       "      <th>Population</th>\n",
       "      <th>lat</th>\n",
       "      <th>lon</th>\n",
       "    </tr>\n",
       "  </thead>\n",
       "  <tbody>\n",
       "    <tr>\n",
       "      <th>0</th>\n",
       "      <td>Marysville</td>\n",
       "      <td>Washington</td>\n",
       "      <td>63269</td>\n",
       "      <td>48.051764</td>\n",
       "      <td>-122.177082</td>\n",
       "    </tr>\n",
       "    <tr>\n",
       "      <th>1</th>\n",
       "      <td>Perris</td>\n",
       "      <td>California</td>\n",
       "      <td>72326</td>\n",
       "      <td>33.782519</td>\n",
       "      <td>-117.228648</td>\n",
       "    </tr>\n",
       "    <tr>\n",
       "      <th>2</th>\n",
       "      <td>Cleveland</td>\n",
       "      <td>Ohio</td>\n",
       "      <td>390113</td>\n",
       "      <td>41.499320</td>\n",
       "      <td>-81.694361</td>\n",
       "    </tr>\n",
       "    <tr>\n",
       "      <th>3</th>\n",
       "      <td>Worcester</td>\n",
       "      <td>Massachusetts</td>\n",
       "      <td>182544</td>\n",
       "      <td>42.262593</td>\n",
       "      <td>-71.802293</td>\n",
       "    </tr>\n",
       "    <tr>\n",
       "      <th>4</th>\n",
       "      <td>Columbia</td>\n",
       "      <td>South Carolina</td>\n",
       "      <td>133358</td>\n",
       "      <td>34.000710</td>\n",
       "      <td>-81.034814</td>\n",
       "    </tr>\n",
       "    <tr>\n",
       "      <th>5</th>\n",
       "      <td>Waterbury</td>\n",
       "      <td>Connecticut</td>\n",
       "      <td>109676</td>\n",
       "      <td>41.558153</td>\n",
       "      <td>-73.051496</td>\n",
       "    </tr>\n",
       "    <tr>\n",
       "      <th>6</th>\n",
       "      <td>Eagan</td>\n",
       "      <td>Minnesota</td>\n",
       "      <td>65453</td>\n",
       "      <td>44.804132</td>\n",
       "      <td>-93.166886</td>\n",
       "    </tr>\n",
       "    <tr>\n",
       "      <th>7</th>\n",
       "      <td>Southfield</td>\n",
       "      <td>Michigan</td>\n",
       "      <td>73006</td>\n",
       "      <td>42.473369</td>\n",
       "      <td>-83.221873</td>\n",
       "    </tr>\n",
       "    <tr>\n",
       "      <th>8</th>\n",
       "      <td>Lafayette</td>\n",
       "      <td>Louisiana</td>\n",
       "      <td>124276</td>\n",
       "      <td>30.224090</td>\n",
       "      <td>-92.019843</td>\n",
       "    </tr>\n",
       "    <tr>\n",
       "      <th>9</th>\n",
       "      <td>Boise City</td>\n",
       "      <td>Idaho</td>\n",
       "      <td>214237</td>\n",
       "      <td>43.618710</td>\n",
       "      <td>-116.214607</td>\n",
       "    </tr>\n",
       "    <tr>\n",
       "      <th>10</th>\n",
       "      <td>Elkhart</td>\n",
       "      <td>Indiana</td>\n",
       "      <td>51265</td>\n",
       "      <td>41.681993</td>\n",
       "      <td>-85.976667</td>\n",
       "    </tr>\n",
       "    <tr>\n",
       "      <th>11</th>\n",
       "      <td>Buena Park</td>\n",
       "      <td>California</td>\n",
       "      <td>82882</td>\n",
       "      <td>33.867514</td>\n",
       "      <td>-117.998118</td>\n",
       "    </tr>\n",
       "    <tr>\n",
       "      <th>12</th>\n",
       "      <td>Marietta</td>\n",
       "      <td>Georgia</td>\n",
       "      <td>59089</td>\n",
       "      <td>33.952602</td>\n",
       "      <td>-84.549933</td>\n",
       "    </tr>\n",
       "    <tr>\n",
       "      <th>13</th>\n",
       "      <td>Parker</td>\n",
       "      <td>Colorado</td>\n",
       "      <td>48608</td>\n",
       "      <td>39.518600</td>\n",
       "      <td>-104.761363</td>\n",
       "    </tr>\n",
       "    <tr>\n",
       "      <th>14</th>\n",
       "      <td>West Palm Beach</td>\n",
       "      <td>Florida</td>\n",
       "      <td>102436</td>\n",
       "      <td>26.715342</td>\n",
       "      <td>-80.053375</td>\n",
       "    </tr>\n",
       "    <tr>\n",
       "      <th>15</th>\n",
       "      <td>Salem</td>\n",
       "      <td>Massachusetts</td>\n",
       "      <td>42544</td>\n",
       "      <td>42.519540</td>\n",
       "      <td>-70.896715</td>\n",
       "    </tr>\n",
       "    <tr>\n",
       "      <th>16</th>\n",
       "      <td>Aurora</td>\n",
       "      <td>Illinois</td>\n",
       "      <td>199963</td>\n",
       "      <td>41.760585</td>\n",
       "      <td>-88.320071</td>\n",
       "    </tr>\n",
       "    <tr>\n",
       "      <th>17</th>\n",
       "      <td>Leesburg</td>\n",
       "      <td>Virginia</td>\n",
       "      <td>47673</td>\n",
       "      <td>39.115662</td>\n",
       "      <td>-77.563602</td>\n",
       "    </tr>\n",
       "    <tr>\n",
       "      <th>18</th>\n",
       "      <td>Doral</td>\n",
       "      <td>Florida</td>\n",
       "      <td>50213</td>\n",
       "      <td>25.819542</td>\n",
       "      <td>-80.355330</td>\n",
       "    </tr>\n",
       "  </tbody>\n",
       "</table>\n",
       "</div>"
      ],
      "text/plain": [
       "               City           State  Population        lat         lon\n",
       "0        Marysville      Washington       63269  48.051764 -122.177082\n",
       "1            Perris      California       72326  33.782519 -117.228648\n",
       "2         Cleveland            Ohio      390113  41.499320  -81.694361\n",
       "3         Worcester   Massachusetts      182544  42.262593  -71.802293\n",
       "4          Columbia  South Carolina      133358  34.000710  -81.034814\n",
       "5         Waterbury     Connecticut      109676  41.558153  -73.051496\n",
       "6             Eagan       Minnesota       65453  44.804132  -93.166886\n",
       "7        Southfield        Michigan       73006  42.473369  -83.221873\n",
       "8         Lafayette       Louisiana      124276  30.224090  -92.019843\n",
       "9        Boise City           Idaho      214237  43.618710 -116.214607\n",
       "10          Elkhart         Indiana       51265  41.681993  -85.976667\n",
       "11       Buena Park      California       82882  33.867514 -117.998118\n",
       "12         Marietta         Georgia       59089  33.952602  -84.549933\n",
       "13           Parker        Colorado       48608  39.518600 -104.761363\n",
       "14  West Palm Beach         Florida      102436  26.715342  -80.053375\n",
       "15            Salem   Massachusetts       42544  42.519540  -70.896715\n",
       "16           Aurora        Illinois      199963  41.760585  -88.320071\n",
       "17         Leesburg        Virginia       47673  39.115662  -77.563602\n",
       "18            Doral         Florida       50213  25.819542  -80.355330"
      ]
     },
     "execution_count": 18,
     "metadata": {},
     "output_type": "execute_result"
    }
   ],
   "source": [
    "cities = pd.read_csv(\"us-cities-small.csv\")\n",
    "cities"
   ]
  },
  {
   "cell_type": "code",
   "execution_count": 19,
   "id": "d5462762-9681-41f8-8abf-58c281319b3e",
   "metadata": {},
   "outputs": [
    {
     "data": {
      "text/plain": [
       "pandas.core.series.Series"
      ]
     },
     "execution_count": 19,
     "metadata": {},
     "output_type": "execute_result"
    }
   ],
   "source": [
    "type(ser)"
   ]
  },
  {
   "cell_type": "code",
   "execution_count": 20,
   "id": "888f1f93-c04f-4fa1-afb4-372566e6b626",
   "metadata": {},
   "outputs": [
    {
     "data": {
      "text/plain": [
       "pandas.core.frame.DataFrame"
      ]
     },
     "execution_count": 20,
     "metadata": {},
     "output_type": "execute_result"
    }
   ],
   "source": [
    "type(cities)"
   ]
  },
  {
   "cell_type": "code",
   "execution_count": 21,
   "id": "be44bbf3-8cbb-4cd7-a59b-2be532467b15",
   "metadata": {},
   "outputs": [
    {
     "ename": "KeyError",
     "evalue": "0",
     "output_type": "error",
     "traceback": [
      "\u001b[0;31m---------------------------------------------------------------------------\u001b[0m",
      "\u001b[0;31mKeyError\u001b[0m                                  Traceback (most recent call last)",
      "File \u001b[0;32m/usr/lib/python3.12/site-packages/pandas/core/indexes/base.py:3805\u001b[0m, in \u001b[0;36mIndex.get_loc\u001b[0;34m(self, key)\u001b[0m\n\u001b[1;32m   3804\u001b[0m \u001b[38;5;28;01mtry\u001b[39;00m:\n\u001b[0;32m-> 3805\u001b[0m     \u001b[38;5;28;01mreturn\u001b[39;00m \u001b[38;5;28;43mself\u001b[39;49m\u001b[38;5;241;43m.\u001b[39;49m\u001b[43m_engine\u001b[49m\u001b[38;5;241;43m.\u001b[39;49m\u001b[43mget_loc\u001b[49m\u001b[43m(\u001b[49m\u001b[43mcasted_key\u001b[49m\u001b[43m)\u001b[49m\n\u001b[1;32m   3806\u001b[0m \u001b[38;5;28;01mexcept\u001b[39;00m \u001b[38;5;167;01mKeyError\u001b[39;00m \u001b[38;5;28;01mas\u001b[39;00m err:\n",
      "File \u001b[0;32mindex.pyx:167\u001b[0m, in \u001b[0;36mpandas._libs.index.IndexEngine.get_loc\u001b[0;34m()\u001b[0m\n",
      "File \u001b[0;32mindex.pyx:196\u001b[0m, in \u001b[0;36mpandas._libs.index.IndexEngine.get_loc\u001b[0;34m()\u001b[0m\n",
      "File \u001b[0;32mpandas/_libs/hashtable_class_helper.pxi:7081\u001b[0m, in \u001b[0;36mpandas._libs.hashtable.PyObjectHashTable.get_item\u001b[0;34m()\u001b[0m\n",
      "File \u001b[0;32mpandas/_libs/hashtable_class_helper.pxi:7089\u001b[0m, in \u001b[0;36mpandas._libs.hashtable.PyObjectHashTable.get_item\u001b[0;34m()\u001b[0m\n",
      "\u001b[0;31mKeyError\u001b[0m: 0",
      "\nThe above exception was the direct cause of the following exception:\n",
      "\u001b[0;31mKeyError\u001b[0m                                  Traceback (most recent call last)",
      "Cell \u001b[0;32mIn[21], line 1\u001b[0m\n\u001b[0;32m----> 1\u001b[0m \u001b[43mcities\u001b[49m\u001b[43m[\u001b[49m\u001b[38;5;241;43m0\u001b[39;49m\u001b[43m]\u001b[49m\n",
      "File \u001b[0;32m/usr/lib/python3.12/site-packages/pandas/core/frame.py:4102\u001b[0m, in \u001b[0;36mDataFrame.__getitem__\u001b[0;34m(self, key)\u001b[0m\n\u001b[1;32m   4100\u001b[0m \u001b[38;5;28;01mif\u001b[39;00m \u001b[38;5;28mself\u001b[39m\u001b[38;5;241m.\u001b[39mcolumns\u001b[38;5;241m.\u001b[39mnlevels \u001b[38;5;241m>\u001b[39m \u001b[38;5;241m1\u001b[39m:\n\u001b[1;32m   4101\u001b[0m     \u001b[38;5;28;01mreturn\u001b[39;00m \u001b[38;5;28mself\u001b[39m\u001b[38;5;241m.\u001b[39m_getitem_multilevel(key)\n\u001b[0;32m-> 4102\u001b[0m indexer \u001b[38;5;241m=\u001b[39m \u001b[38;5;28;43mself\u001b[39;49m\u001b[38;5;241;43m.\u001b[39;49m\u001b[43mcolumns\u001b[49m\u001b[38;5;241;43m.\u001b[39;49m\u001b[43mget_loc\u001b[49m\u001b[43m(\u001b[49m\u001b[43mkey\u001b[49m\u001b[43m)\u001b[49m\n\u001b[1;32m   4103\u001b[0m \u001b[38;5;28;01mif\u001b[39;00m is_integer(indexer):\n\u001b[1;32m   4104\u001b[0m     indexer \u001b[38;5;241m=\u001b[39m [indexer]\n",
      "File \u001b[0;32m/usr/lib/python3.12/site-packages/pandas/core/indexes/base.py:3812\u001b[0m, in \u001b[0;36mIndex.get_loc\u001b[0;34m(self, key)\u001b[0m\n\u001b[1;32m   3807\u001b[0m     \u001b[38;5;28;01mif\u001b[39;00m \u001b[38;5;28misinstance\u001b[39m(casted_key, \u001b[38;5;28mslice\u001b[39m) \u001b[38;5;129;01mor\u001b[39;00m (\n\u001b[1;32m   3808\u001b[0m         \u001b[38;5;28misinstance\u001b[39m(casted_key, abc\u001b[38;5;241m.\u001b[39mIterable)\n\u001b[1;32m   3809\u001b[0m         \u001b[38;5;129;01mand\u001b[39;00m \u001b[38;5;28many\u001b[39m(\u001b[38;5;28misinstance\u001b[39m(x, \u001b[38;5;28mslice\u001b[39m) \u001b[38;5;28;01mfor\u001b[39;00m x \u001b[38;5;129;01min\u001b[39;00m casted_key)\n\u001b[1;32m   3810\u001b[0m     ):\n\u001b[1;32m   3811\u001b[0m         \u001b[38;5;28;01mraise\u001b[39;00m InvalidIndexError(key)\n\u001b[0;32m-> 3812\u001b[0m     \u001b[38;5;28;01mraise\u001b[39;00m \u001b[38;5;167;01mKeyError\u001b[39;00m(key) \u001b[38;5;28;01mfrom\u001b[39;00m \u001b[38;5;21;01merr\u001b[39;00m\n\u001b[1;32m   3813\u001b[0m \u001b[38;5;28;01mexcept\u001b[39;00m \u001b[38;5;167;01mTypeError\u001b[39;00m:\n\u001b[1;32m   3814\u001b[0m     \u001b[38;5;66;03m# If we have a listlike key, _check_indexing_error will raise\u001b[39;00m\n\u001b[1;32m   3815\u001b[0m     \u001b[38;5;66;03m#  InvalidIndexError. Otherwise we fall through and re-raise\u001b[39;00m\n\u001b[1;32m   3816\u001b[0m     \u001b[38;5;66;03m#  the TypeError.\u001b[39;00m\n\u001b[1;32m   3817\u001b[0m     \u001b[38;5;28mself\u001b[39m\u001b[38;5;241m.\u001b[39m_check_indexing_error(key)\n",
      "\u001b[0;31mKeyError\u001b[0m: 0"
     ]
    }
   ],
   "source": [
    "cities[0]"
   ]
  },
  {
   "cell_type": "code",
   "execution_count": 22,
   "id": "e2192007-e574-4501-94a6-f22c55e6fee3",
   "metadata": {},
   "outputs": [
    {
     "ename": "KeyError",
     "evalue": "'0'",
     "output_type": "error",
     "traceback": [
      "\u001b[0;31m---------------------------------------------------------------------------\u001b[0m",
      "\u001b[0;31mKeyError\u001b[0m                                  Traceback (most recent call last)",
      "File \u001b[0;32m/usr/lib/python3.12/site-packages/pandas/core/indexes/base.py:3805\u001b[0m, in \u001b[0;36mIndex.get_loc\u001b[0;34m(self, key)\u001b[0m\n\u001b[1;32m   3804\u001b[0m \u001b[38;5;28;01mtry\u001b[39;00m:\n\u001b[0;32m-> 3805\u001b[0m     \u001b[38;5;28;01mreturn\u001b[39;00m \u001b[38;5;28;43mself\u001b[39;49m\u001b[38;5;241;43m.\u001b[39;49m\u001b[43m_engine\u001b[49m\u001b[38;5;241;43m.\u001b[39;49m\u001b[43mget_loc\u001b[49m\u001b[43m(\u001b[49m\u001b[43mcasted_key\u001b[49m\u001b[43m)\u001b[49m\n\u001b[1;32m   3806\u001b[0m \u001b[38;5;28;01mexcept\u001b[39;00m \u001b[38;5;167;01mKeyError\u001b[39;00m \u001b[38;5;28;01mas\u001b[39;00m err:\n",
      "File \u001b[0;32mindex.pyx:167\u001b[0m, in \u001b[0;36mpandas._libs.index.IndexEngine.get_loc\u001b[0;34m()\u001b[0m\n",
      "File \u001b[0;32mindex.pyx:196\u001b[0m, in \u001b[0;36mpandas._libs.index.IndexEngine.get_loc\u001b[0;34m()\u001b[0m\n",
      "File \u001b[0;32mpandas/_libs/hashtable_class_helper.pxi:7081\u001b[0m, in \u001b[0;36mpandas._libs.hashtable.PyObjectHashTable.get_item\u001b[0;34m()\u001b[0m\n",
      "File \u001b[0;32mpandas/_libs/hashtable_class_helper.pxi:7089\u001b[0m, in \u001b[0;36mpandas._libs.hashtable.PyObjectHashTable.get_item\u001b[0;34m()\u001b[0m\n",
      "\u001b[0;31mKeyError\u001b[0m: '0'",
      "\nThe above exception was the direct cause of the following exception:\n",
      "\u001b[0;31mKeyError\u001b[0m                                  Traceback (most recent call last)",
      "Cell \u001b[0;32mIn[22], line 1\u001b[0m\n\u001b[0;32m----> 1\u001b[0m \u001b[43mcities\u001b[49m\u001b[43m[\u001b[49m\u001b[38;5;124;43m\"\u001b[39;49m\u001b[38;5;124;43m0\u001b[39;49m\u001b[38;5;124;43m\"\u001b[39;49m\u001b[43m]\u001b[49m\n",
      "File \u001b[0;32m/usr/lib/python3.12/site-packages/pandas/core/frame.py:4102\u001b[0m, in \u001b[0;36mDataFrame.__getitem__\u001b[0;34m(self, key)\u001b[0m\n\u001b[1;32m   4100\u001b[0m \u001b[38;5;28;01mif\u001b[39;00m \u001b[38;5;28mself\u001b[39m\u001b[38;5;241m.\u001b[39mcolumns\u001b[38;5;241m.\u001b[39mnlevels \u001b[38;5;241m>\u001b[39m \u001b[38;5;241m1\u001b[39m:\n\u001b[1;32m   4101\u001b[0m     \u001b[38;5;28;01mreturn\u001b[39;00m \u001b[38;5;28mself\u001b[39m\u001b[38;5;241m.\u001b[39m_getitem_multilevel(key)\n\u001b[0;32m-> 4102\u001b[0m indexer \u001b[38;5;241m=\u001b[39m \u001b[38;5;28;43mself\u001b[39;49m\u001b[38;5;241;43m.\u001b[39;49m\u001b[43mcolumns\u001b[49m\u001b[38;5;241;43m.\u001b[39;49m\u001b[43mget_loc\u001b[49m\u001b[43m(\u001b[49m\u001b[43mkey\u001b[49m\u001b[43m)\u001b[49m\n\u001b[1;32m   4103\u001b[0m \u001b[38;5;28;01mif\u001b[39;00m is_integer(indexer):\n\u001b[1;32m   4104\u001b[0m     indexer \u001b[38;5;241m=\u001b[39m [indexer]\n",
      "File \u001b[0;32m/usr/lib/python3.12/site-packages/pandas/core/indexes/base.py:3812\u001b[0m, in \u001b[0;36mIndex.get_loc\u001b[0;34m(self, key)\u001b[0m\n\u001b[1;32m   3807\u001b[0m     \u001b[38;5;28;01mif\u001b[39;00m \u001b[38;5;28misinstance\u001b[39m(casted_key, \u001b[38;5;28mslice\u001b[39m) \u001b[38;5;129;01mor\u001b[39;00m (\n\u001b[1;32m   3808\u001b[0m         \u001b[38;5;28misinstance\u001b[39m(casted_key, abc\u001b[38;5;241m.\u001b[39mIterable)\n\u001b[1;32m   3809\u001b[0m         \u001b[38;5;129;01mand\u001b[39;00m \u001b[38;5;28many\u001b[39m(\u001b[38;5;28misinstance\u001b[39m(x, \u001b[38;5;28mslice\u001b[39m) \u001b[38;5;28;01mfor\u001b[39;00m x \u001b[38;5;129;01min\u001b[39;00m casted_key)\n\u001b[1;32m   3810\u001b[0m     ):\n\u001b[1;32m   3811\u001b[0m         \u001b[38;5;28;01mraise\u001b[39;00m InvalidIndexError(key)\n\u001b[0;32m-> 3812\u001b[0m     \u001b[38;5;28;01mraise\u001b[39;00m \u001b[38;5;167;01mKeyError\u001b[39;00m(key) \u001b[38;5;28;01mfrom\u001b[39;00m \u001b[38;5;21;01merr\u001b[39;00m\n\u001b[1;32m   3813\u001b[0m \u001b[38;5;28;01mexcept\u001b[39;00m \u001b[38;5;167;01mTypeError\u001b[39;00m:\n\u001b[1;32m   3814\u001b[0m     \u001b[38;5;66;03m# If we have a listlike key, _check_indexing_error will raise\u001b[39;00m\n\u001b[1;32m   3815\u001b[0m     \u001b[38;5;66;03m#  InvalidIndexError. Otherwise we fall through and re-raise\u001b[39;00m\n\u001b[1;32m   3816\u001b[0m     \u001b[38;5;66;03m#  the TypeError.\u001b[39;00m\n\u001b[1;32m   3817\u001b[0m     \u001b[38;5;28mself\u001b[39m\u001b[38;5;241m.\u001b[39m_check_indexing_error(key)\n",
      "\u001b[0;31mKeyError\u001b[0m: '0'"
     ]
    }
   ],
   "source": [
    "cities[\"0\"]"
   ]
  },
  {
   "cell_type": "code",
   "execution_count": 23,
   "id": "0e044a45-6c55-4ae6-9ebc-1782d7caf96e",
   "metadata": {},
   "outputs": [
    {
     "data": {
      "text/html": [
       "<div>\n",
       "<style scoped>\n",
       "    .dataframe tbody tr th:only-of-type {\n",
       "        vertical-align: middle;\n",
       "    }\n",
       "\n",
       "    .dataframe tbody tr th {\n",
       "        vertical-align: top;\n",
       "    }\n",
       "\n",
       "    .dataframe thead th {\n",
       "        text-align: right;\n",
       "    }\n",
       "</style>\n",
       "<table border=\"1\" class=\"dataframe\">\n",
       "  <thead>\n",
       "    <tr style=\"text-align: right;\">\n",
       "      <th></th>\n",
       "      <th>State</th>\n",
       "      <th>Population</th>\n",
       "      <th>lat</th>\n",
       "      <th>lon</th>\n",
       "    </tr>\n",
       "    <tr>\n",
       "      <th>City</th>\n",
       "      <th></th>\n",
       "      <th></th>\n",
       "      <th></th>\n",
       "      <th></th>\n",
       "    </tr>\n",
       "  </thead>\n",
       "  <tbody>\n",
       "    <tr>\n",
       "      <th>Marysville</th>\n",
       "      <td>Washington</td>\n",
       "      <td>63269</td>\n",
       "      <td>48.051764</td>\n",
       "      <td>-122.177082</td>\n",
       "    </tr>\n",
       "    <tr>\n",
       "      <th>Perris</th>\n",
       "      <td>California</td>\n",
       "      <td>72326</td>\n",
       "      <td>33.782519</td>\n",
       "      <td>-117.228648</td>\n",
       "    </tr>\n",
       "    <tr>\n",
       "      <th>Cleveland</th>\n",
       "      <td>Ohio</td>\n",
       "      <td>390113</td>\n",
       "      <td>41.499320</td>\n",
       "      <td>-81.694361</td>\n",
       "    </tr>\n",
       "    <tr>\n",
       "      <th>Worcester</th>\n",
       "      <td>Massachusetts</td>\n",
       "      <td>182544</td>\n",
       "      <td>42.262593</td>\n",
       "      <td>-71.802293</td>\n",
       "    </tr>\n",
       "    <tr>\n",
       "      <th>Columbia</th>\n",
       "      <td>South Carolina</td>\n",
       "      <td>133358</td>\n",
       "      <td>34.000710</td>\n",
       "      <td>-81.034814</td>\n",
       "    </tr>\n",
       "    <tr>\n",
       "      <th>Waterbury</th>\n",
       "      <td>Connecticut</td>\n",
       "      <td>109676</td>\n",
       "      <td>41.558153</td>\n",
       "      <td>-73.051496</td>\n",
       "    </tr>\n",
       "    <tr>\n",
       "      <th>Eagan</th>\n",
       "      <td>Minnesota</td>\n",
       "      <td>65453</td>\n",
       "      <td>44.804132</td>\n",
       "      <td>-93.166886</td>\n",
       "    </tr>\n",
       "    <tr>\n",
       "      <th>Southfield</th>\n",
       "      <td>Michigan</td>\n",
       "      <td>73006</td>\n",
       "      <td>42.473369</td>\n",
       "      <td>-83.221873</td>\n",
       "    </tr>\n",
       "    <tr>\n",
       "      <th>Lafayette</th>\n",
       "      <td>Louisiana</td>\n",
       "      <td>124276</td>\n",
       "      <td>30.224090</td>\n",
       "      <td>-92.019843</td>\n",
       "    </tr>\n",
       "    <tr>\n",
       "      <th>Boise City</th>\n",
       "      <td>Idaho</td>\n",
       "      <td>214237</td>\n",
       "      <td>43.618710</td>\n",
       "      <td>-116.214607</td>\n",
       "    </tr>\n",
       "    <tr>\n",
       "      <th>Elkhart</th>\n",
       "      <td>Indiana</td>\n",
       "      <td>51265</td>\n",
       "      <td>41.681993</td>\n",
       "      <td>-85.976667</td>\n",
       "    </tr>\n",
       "    <tr>\n",
       "      <th>Buena Park</th>\n",
       "      <td>California</td>\n",
       "      <td>82882</td>\n",
       "      <td>33.867514</td>\n",
       "      <td>-117.998118</td>\n",
       "    </tr>\n",
       "    <tr>\n",
       "      <th>Marietta</th>\n",
       "      <td>Georgia</td>\n",
       "      <td>59089</td>\n",
       "      <td>33.952602</td>\n",
       "      <td>-84.549933</td>\n",
       "    </tr>\n",
       "    <tr>\n",
       "      <th>Parker</th>\n",
       "      <td>Colorado</td>\n",
       "      <td>48608</td>\n",
       "      <td>39.518600</td>\n",
       "      <td>-104.761363</td>\n",
       "    </tr>\n",
       "    <tr>\n",
       "      <th>West Palm Beach</th>\n",
       "      <td>Florida</td>\n",
       "      <td>102436</td>\n",
       "      <td>26.715342</td>\n",
       "      <td>-80.053375</td>\n",
       "    </tr>\n",
       "    <tr>\n",
       "      <th>Salem</th>\n",
       "      <td>Massachusetts</td>\n",
       "      <td>42544</td>\n",
       "      <td>42.519540</td>\n",
       "      <td>-70.896715</td>\n",
       "    </tr>\n",
       "    <tr>\n",
       "      <th>Aurora</th>\n",
       "      <td>Illinois</td>\n",
       "      <td>199963</td>\n",
       "      <td>41.760585</td>\n",
       "      <td>-88.320071</td>\n",
       "    </tr>\n",
       "    <tr>\n",
       "      <th>Leesburg</th>\n",
       "      <td>Virginia</td>\n",
       "      <td>47673</td>\n",
       "      <td>39.115662</td>\n",
       "      <td>-77.563602</td>\n",
       "    </tr>\n",
       "    <tr>\n",
       "      <th>Doral</th>\n",
       "      <td>Florida</td>\n",
       "      <td>50213</td>\n",
       "      <td>25.819542</td>\n",
       "      <td>-80.355330</td>\n",
       "    </tr>\n",
       "  </tbody>\n",
       "</table>\n",
       "</div>"
      ],
      "text/plain": [
       "                          State  Population        lat         lon\n",
       "City                                                              \n",
       "Marysville           Washington       63269  48.051764 -122.177082\n",
       "Perris               California       72326  33.782519 -117.228648\n",
       "Cleveland                  Ohio      390113  41.499320  -81.694361\n",
       "Worcester         Massachusetts      182544  42.262593  -71.802293\n",
       "Columbia         South Carolina      133358  34.000710  -81.034814\n",
       "Waterbury           Connecticut      109676  41.558153  -73.051496\n",
       "Eagan                 Minnesota       65453  44.804132  -93.166886\n",
       "Southfield             Michigan       73006  42.473369  -83.221873\n",
       "Lafayette             Louisiana      124276  30.224090  -92.019843\n",
       "Boise City                Idaho      214237  43.618710 -116.214607\n",
       "Elkhart                 Indiana       51265  41.681993  -85.976667\n",
       "Buena Park           California       82882  33.867514 -117.998118\n",
       "Marietta                Georgia       59089  33.952602  -84.549933\n",
       "Parker                 Colorado       48608  39.518600 -104.761363\n",
       "West Palm Beach         Florida      102436  26.715342  -80.053375\n",
       "Salem             Massachusetts       42544  42.519540  -70.896715\n",
       "Aurora                 Illinois      199963  41.760585  -88.320071\n",
       "Leesburg               Virginia       47673  39.115662  -77.563602\n",
       "Doral                   Florida       50213  25.819542  -80.355330"
      ]
     },
     "execution_count": 23,
     "metadata": {},
     "output_type": "execute_result"
    }
   ],
   "source": [
    "cities = pd.read_csv(\"us-cities-small.csv\", index_col=0)\n",
    "cities"
   ]
  },
  {
   "cell_type": "code",
   "execution_count": 24,
   "id": "d4432899-bebf-4208-a476-9d2241d55958",
   "metadata": {},
   "outputs": [
    {
     "data": {
      "text/html": [
       "<div>\n",
       "<style scoped>\n",
       "    .dataframe tbody tr th:only-of-type {\n",
       "        vertical-align: middle;\n",
       "    }\n",
       "\n",
       "    .dataframe tbody tr th {\n",
       "        vertical-align: top;\n",
       "    }\n",
       "\n",
       "    .dataframe thead th {\n",
       "        text-align: right;\n",
       "    }\n",
       "</style>\n",
       "<table border=\"1\" class=\"dataframe\">\n",
       "  <thead>\n",
       "    <tr style=\"text-align: right;\">\n",
       "      <th></th>\n",
       "      <th>State</th>\n",
       "      <th>Population</th>\n",
       "      <th>lat</th>\n",
       "      <th>lon</th>\n",
       "    </tr>\n",
       "    <tr>\n",
       "      <th>City</th>\n",
       "      <th></th>\n",
       "      <th></th>\n",
       "      <th></th>\n",
       "      <th></th>\n",
       "    </tr>\n",
       "  </thead>\n",
       "  <tbody>\n",
       "    <tr>\n",
       "      <th>Marysville</th>\n",
       "      <td>Washington</td>\n",
       "      <td>63269</td>\n",
       "      <td>48.051764</td>\n",
       "      <td>-122.177082</td>\n",
       "    </tr>\n",
       "    <tr>\n",
       "      <th>Perris</th>\n",
       "      <td>California</td>\n",
       "      <td>72326</td>\n",
       "      <td>33.782519</td>\n",
       "      <td>-117.228648</td>\n",
       "    </tr>\n",
       "    <tr>\n",
       "      <th>Cleveland</th>\n",
       "      <td>Ohio</td>\n",
       "      <td>390113</td>\n",
       "      <td>41.499320</td>\n",
       "      <td>-81.694361</td>\n",
       "    </tr>\n",
       "    <tr>\n",
       "      <th>Worcester</th>\n",
       "      <td>Massachusetts</td>\n",
       "      <td>182544</td>\n",
       "      <td>42.262593</td>\n",
       "      <td>-71.802293</td>\n",
       "    </tr>\n",
       "    <tr>\n",
       "      <th>Columbia</th>\n",
       "      <td>South Carolina</td>\n",
       "      <td>133358</td>\n",
       "      <td>34.000710</td>\n",
       "      <td>-81.034814</td>\n",
       "    </tr>\n",
       "  </tbody>\n",
       "</table>\n",
       "</div>"
      ],
      "text/plain": [
       "                     State  Population        lat         lon\n",
       "City                                                         \n",
       "Marysville      Washington       63269  48.051764 -122.177082\n",
       "Perris          California       72326  33.782519 -117.228648\n",
       "Cleveland             Ohio      390113  41.499320  -81.694361\n",
       "Worcester    Massachusetts      182544  42.262593  -71.802293\n",
       "Columbia    South Carolina      133358  34.000710  -81.034814"
      ]
     },
     "execution_count": 24,
     "metadata": {},
     "output_type": "execute_result"
    }
   ],
   "source": [
    "cities.head()"
   ]
  },
  {
   "cell_type": "code",
   "execution_count": 25,
   "id": "9a6261c8-f309-4fe9-a797-6b069a2009f2",
   "metadata": {},
   "outputs": [
    {
     "data": {
      "text/plain": [
       "Index(['Marysville', 'Perris', 'Cleveland', 'Worcester', 'Columbia',\n",
       "       'Waterbury', 'Eagan', 'Southfield', 'Lafayette', 'Boise City',\n",
       "       'Elkhart', 'Buena Park', 'Marietta', 'Parker', 'West Palm Beach',\n",
       "       'Salem', 'Aurora', 'Leesburg', 'Doral'],\n",
       "      dtype='object', name='City')"
      ]
     },
     "execution_count": 25,
     "metadata": {},
     "output_type": "execute_result"
    }
   ],
   "source": [
    "cities.index"
   ]
  },
  {
   "cell_type": "code",
   "execution_count": 27,
   "id": "61d32d7d-7bce-4148-9a54-ad44de12f73f",
   "metadata": {},
   "outputs": [
    {
     "data": {
      "text/plain": [
       "City\n",
       "Marysville             Washington\n",
       "Perris                 California\n",
       "Cleveland                    Ohio\n",
       "Worcester           Massachusetts\n",
       "Columbia           South Carolina\n",
       "Waterbury             Connecticut\n",
       "Eagan                   Minnesota\n",
       "Southfield               Michigan\n",
       "Lafayette               Louisiana\n",
       "Boise City                  Idaho\n",
       "Elkhart                   Indiana\n",
       "Buena Park             California\n",
       "Marietta                  Georgia\n",
       "Parker                   Colorado\n",
       "West Palm Beach           Florida\n",
       "Salem               Massachusetts\n",
       "Aurora                   Illinois\n",
       "Leesburg                 Virginia\n",
       "Doral                     Florida\n",
       "Name: State, dtype: object"
      ]
     },
     "execution_count": 27,
     "metadata": {},
     "output_type": "execute_result"
    }
   ],
   "source": [
    "cs = cities[\"State\"]\n",
    "cs"
   ]
  },
  {
   "cell_type": "code",
   "execution_count": 28,
   "id": "96b5c11d-dda3-4e21-95c8-82535018b3fe",
   "metadata": {},
   "outputs": [
    {
     "data": {
      "text/plain": [
       "City\n",
       "Marysville        Washington\n",
       "Perris            California\n",
       "Cleveland               Ohio\n",
       "Worcester      Massachusetts\n",
       "Columbia      South Carolina\n",
       "Name: State, dtype: object"
      ]
     },
     "execution_count": 28,
     "metadata": {},
     "output_type": "execute_result"
    }
   ],
   "source": [
    "cs.head()"
   ]
  },
  {
   "cell_type": "code",
   "execution_count": 29,
   "id": "eb4b4d35-9739-42ac-a2ef-79e6542aa7a4",
   "metadata": {},
   "outputs": [
    {
     "data": {
      "text/plain": [
       "pandas.core.series.Series"
      ]
     },
     "execution_count": 29,
     "metadata": {},
     "output_type": "execute_result"
    }
   ],
   "source": [
    "type(cs)"
   ]
  },
  {
   "cell_type": "code",
   "execution_count": 31,
   "id": "62f55d08-079d-40f3-a942-07c9abdc5dc6",
   "metadata": {},
   "outputs": [
    {
     "data": {
      "text/plain": [
       "State              Ohio\n",
       "Population       390113\n",
       "lat            41.49932\n",
       "lon          -81.694361\n",
       "Name: Cleveland, dtype: object"
      ]
     },
     "execution_count": 31,
     "metadata": {},
     "output_type": "execute_result"
    }
   ],
   "source": [
    "ctown = cities.loc[\"Cleveland\"]\n",
    "ctown"
   ]
  },
  {
   "cell_type": "code",
   "execution_count": 32,
   "id": "99040ca5-4312-4fbc-bd93-c419fde43fb6",
   "metadata": {},
   "outputs": [
    {
     "data": {
      "text/plain": [
       "pandas.core.series.Series"
      ]
     },
     "execution_count": 32,
     "metadata": {},
     "output_type": "execute_result"
    }
   ],
   "source": [
    "type(ctown)"
   ]
  },
  {
   "cell_type": "code",
   "execution_count": 33,
   "id": "e57748ef-5e42-4cf5-8ea8-7a45a7ebe9ec",
   "metadata": {},
   "outputs": [
    {
     "data": {
      "text/plain": [
       "State              Ohio\n",
       "Population       390113\n",
       "lat            41.49932\n",
       "lon          -81.694361\n",
       "Name: Cleveland, dtype: object"
      ]
     },
     "execution_count": 33,
     "metadata": {},
     "output_type": "execute_result"
    }
   ],
   "source": [
    "cities.iloc[2]"
   ]
  },
  {
   "cell_type": "code",
   "execution_count": 34,
   "id": "a81ac8c5-5e63-4be9-a6d7-91dfda793534",
   "metadata": {},
   "outputs": [
    {
     "data": {
      "text/html": [
       "<div>\n",
       "<style scoped>\n",
       "    .dataframe tbody tr th:only-of-type {\n",
       "        vertical-align: middle;\n",
       "    }\n",
       "\n",
       "    .dataframe tbody tr th {\n",
       "        vertical-align: top;\n",
       "    }\n",
       "\n",
       "    .dataframe thead th {\n",
       "        text-align: right;\n",
       "    }\n",
       "</style>\n",
       "<table border=\"1\" class=\"dataframe\">\n",
       "  <thead>\n",
       "    <tr style=\"text-align: right;\">\n",
       "      <th></th>\n",
       "      <th>State</th>\n",
       "      <th>Population</th>\n",
       "      <th>lat</th>\n",
       "      <th>lon</th>\n",
       "    </tr>\n",
       "    <tr>\n",
       "      <th>City</th>\n",
       "      <th></th>\n",
       "      <th></th>\n",
       "      <th></th>\n",
       "      <th></th>\n",
       "    </tr>\n",
       "  </thead>\n",
       "  <tbody>\n",
       "    <tr>\n",
       "      <th>Marysville</th>\n",
       "      <td>Washington</td>\n",
       "      <td>63269</td>\n",
       "      <td>48.051764</td>\n",
       "      <td>-122.177082</td>\n",
       "    </tr>\n",
       "    <tr>\n",
       "      <th>Perris</th>\n",
       "      <td>California</td>\n",
       "      <td>72326</td>\n",
       "      <td>33.782519</td>\n",
       "      <td>-117.228648</td>\n",
       "    </tr>\n",
       "    <tr>\n",
       "      <th>Cleveland</th>\n",
       "      <td>Ohio</td>\n",
       "      <td>390113</td>\n",
       "      <td>41.499320</td>\n",
       "      <td>-81.694361</td>\n",
       "    </tr>\n",
       "    <tr>\n",
       "      <th>Worcester</th>\n",
       "      <td>Massachusetts</td>\n",
       "      <td>182544</td>\n",
       "      <td>42.262593</td>\n",
       "      <td>-71.802293</td>\n",
       "    </tr>\n",
       "    <tr>\n",
       "      <th>Columbia</th>\n",
       "      <td>South Carolina</td>\n",
       "      <td>133358</td>\n",
       "      <td>34.000710</td>\n",
       "      <td>-81.034814</td>\n",
       "    </tr>\n",
       "  </tbody>\n",
       "</table>\n",
       "</div>"
      ],
      "text/plain": [
       "                     State  Population        lat         lon\n",
       "City                                                         \n",
       "Marysville      Washington       63269  48.051764 -122.177082\n",
       "Perris          California       72326  33.782519 -117.228648\n",
       "Cleveland             Ohio      390113  41.499320  -81.694361\n",
       "Worcester    Massachusetts      182544  42.262593  -71.802293\n",
       "Columbia    South Carolina      133358  34.000710  -81.034814"
      ]
     },
     "execution_count": 34,
     "metadata": {},
     "output_type": "execute_result"
    }
   ],
   "source": [
    "cities.head()"
   ]
  },
  {
   "cell_type": "code",
   "execution_count": 35,
   "id": "4f22b597-9e99-4bb1-b5c1-2490b572cfa6",
   "metadata": {},
   "outputs": [
    {
     "data": {
      "text/plain": [
       "City\n",
       "Marysville          63269\n",
       "Perris              72326\n",
       "Cleveland          390113\n",
       "Worcester          182544\n",
       "Columbia           133358\n",
       "Waterbury          109676\n",
       "Eagan               65453\n",
       "Southfield          73006\n",
       "Lafayette          124276\n",
       "Boise City         214237\n",
       "Elkhart             51265\n",
       "Buena Park          82882\n",
       "Marietta            59089\n",
       "Parker              48608\n",
       "West Palm Beach    102436\n",
       "Salem               42544\n",
       "Aurora             199963\n",
       "Leesburg            47673\n",
       "Doral               50213\n",
       "Name: Population, dtype: int64"
      ]
     },
     "execution_count": 35,
     "metadata": {},
     "output_type": "execute_result"
    }
   ],
   "source": [
    "cities[\"Population\"]"
   ]
  },
  {
   "cell_type": "code",
   "execution_count": 36,
   "id": "91c05188-f1d4-4d5e-bbef-b12b62bfb8e3",
   "metadata": {},
   "outputs": [
    {
     "data": {
      "text/plain": [
       "City\n",
       "Marysville         False\n",
       "Perris             False\n",
       "Cleveland           True\n",
       "Worcester           True\n",
       "Columbia            True\n",
       "Waterbury           True\n",
       "Eagan              False\n",
       "Southfield         False\n",
       "Lafayette           True\n",
       "Boise City          True\n",
       "Elkhart            False\n",
       "Buena Park         False\n",
       "Marietta           False\n",
       "Parker             False\n",
       "West Palm Beach     True\n",
       "Salem              False\n",
       "Aurora              True\n",
       "Leesburg           False\n",
       "Doral              False\n",
       "Name: Population, dtype: bool"
      ]
     },
     "execution_count": 36,
     "metadata": {},
     "output_type": "execute_result"
    }
   ],
   "source": [
    "cities[\"Population\"] > 100000"
   ]
  },
  {
   "cell_type": "code",
   "execution_count": 37,
   "id": "67b02750-d802-42dd-88ca-fca5d7e14feb",
   "metadata": {},
   "outputs": [
    {
     "data": {
      "text/html": [
       "<div>\n",
       "<style scoped>\n",
       "    .dataframe tbody tr th:only-of-type {\n",
       "        vertical-align: middle;\n",
       "    }\n",
       "\n",
       "    .dataframe tbody tr th {\n",
       "        vertical-align: top;\n",
       "    }\n",
       "\n",
       "    .dataframe thead th {\n",
       "        text-align: right;\n",
       "    }\n",
       "</style>\n",
       "<table border=\"1\" class=\"dataframe\">\n",
       "  <thead>\n",
       "    <tr style=\"text-align: right;\">\n",
       "      <th></th>\n",
       "      <th>State</th>\n",
       "      <th>Population</th>\n",
       "      <th>lat</th>\n",
       "      <th>lon</th>\n",
       "    </tr>\n",
       "    <tr>\n",
       "      <th>City</th>\n",
       "      <th></th>\n",
       "      <th></th>\n",
       "      <th></th>\n",
       "      <th></th>\n",
       "    </tr>\n",
       "  </thead>\n",
       "  <tbody>\n",
       "    <tr>\n",
       "      <th>Cleveland</th>\n",
       "      <td>Ohio</td>\n",
       "      <td>390113</td>\n",
       "      <td>41.499320</td>\n",
       "      <td>-81.694361</td>\n",
       "    </tr>\n",
       "    <tr>\n",
       "      <th>Worcester</th>\n",
       "      <td>Massachusetts</td>\n",
       "      <td>182544</td>\n",
       "      <td>42.262593</td>\n",
       "      <td>-71.802293</td>\n",
       "    </tr>\n",
       "    <tr>\n",
       "      <th>Columbia</th>\n",
       "      <td>South Carolina</td>\n",
       "      <td>133358</td>\n",
       "      <td>34.000710</td>\n",
       "      <td>-81.034814</td>\n",
       "    </tr>\n",
       "    <tr>\n",
       "      <th>Waterbury</th>\n",
       "      <td>Connecticut</td>\n",
       "      <td>109676</td>\n",
       "      <td>41.558153</td>\n",
       "      <td>-73.051496</td>\n",
       "    </tr>\n",
       "    <tr>\n",
       "      <th>Lafayette</th>\n",
       "      <td>Louisiana</td>\n",
       "      <td>124276</td>\n",
       "      <td>30.224090</td>\n",
       "      <td>-92.019843</td>\n",
       "    </tr>\n",
       "    <tr>\n",
       "      <th>Boise City</th>\n",
       "      <td>Idaho</td>\n",
       "      <td>214237</td>\n",
       "      <td>43.618710</td>\n",
       "      <td>-116.214607</td>\n",
       "    </tr>\n",
       "    <tr>\n",
       "      <th>West Palm Beach</th>\n",
       "      <td>Florida</td>\n",
       "      <td>102436</td>\n",
       "      <td>26.715342</td>\n",
       "      <td>-80.053375</td>\n",
       "    </tr>\n",
       "    <tr>\n",
       "      <th>Aurora</th>\n",
       "      <td>Illinois</td>\n",
       "      <td>199963</td>\n",
       "      <td>41.760585</td>\n",
       "      <td>-88.320071</td>\n",
       "    </tr>\n",
       "  </tbody>\n",
       "</table>\n",
       "</div>"
      ],
      "text/plain": [
       "                          State  Population        lat         lon\n",
       "City                                                              \n",
       "Cleveland                  Ohio      390113  41.499320  -81.694361\n",
       "Worcester         Massachusetts      182544  42.262593  -71.802293\n",
       "Columbia         South Carolina      133358  34.000710  -81.034814\n",
       "Waterbury           Connecticut      109676  41.558153  -73.051496\n",
       "Lafayette             Louisiana      124276  30.224090  -92.019843\n",
       "Boise City                Idaho      214237  43.618710 -116.214607\n",
       "West Palm Beach         Florida      102436  26.715342  -80.053375\n",
       "Aurora                 Illinois      199963  41.760585  -88.320071"
      ]
     },
     "execution_count": 37,
     "metadata": {},
     "output_type": "execute_result"
    }
   ],
   "source": [
    "cities[cities[\"Population\"] > 100000]"
   ]
  },
  {
   "cell_type": "code",
   "execution_count": 38,
   "id": "c0e92344-9ae3-440c-96ff-10794ad17d58",
   "metadata": {},
   "outputs": [
    {
     "data": {
      "text/html": [
       "<div>\n",
       "<style scoped>\n",
       "    .dataframe tbody tr th:only-of-type {\n",
       "        vertical-align: middle;\n",
       "    }\n",
       "\n",
       "    .dataframe tbody tr th {\n",
       "        vertical-align: top;\n",
       "    }\n",
       "\n",
       "    .dataframe thead th {\n",
       "        text-align: right;\n",
       "    }\n",
       "</style>\n",
       "<table border=\"1\" class=\"dataframe\">\n",
       "  <thead>\n",
       "    <tr style=\"text-align: right;\">\n",
       "      <th></th>\n",
       "      <th>City</th>\n",
       "      <th>State</th>\n",
       "      <th>Population</th>\n",
       "      <th>lat</th>\n",
       "      <th>lon</th>\n",
       "    </tr>\n",
       "  </thead>\n",
       "  <tbody>\n",
       "    <tr>\n",
       "      <th>0</th>\n",
       "      <td>Marysville</td>\n",
       "      <td>Washington</td>\n",
       "      <td>63269</td>\n",
       "      <td>48.051764</td>\n",
       "      <td>-122.177082</td>\n",
       "    </tr>\n",
       "    <tr>\n",
       "      <th>1</th>\n",
       "      <td>Perris</td>\n",
       "      <td>California</td>\n",
       "      <td>72326</td>\n",
       "      <td>33.782519</td>\n",
       "      <td>-117.228648</td>\n",
       "    </tr>\n",
       "    <tr>\n",
       "      <th>2</th>\n",
       "      <td>Cleveland</td>\n",
       "      <td>Ohio</td>\n",
       "      <td>390113</td>\n",
       "      <td>41.499320</td>\n",
       "      <td>-81.694361</td>\n",
       "    </tr>\n",
       "    <tr>\n",
       "      <th>3</th>\n",
       "      <td>Worcester</td>\n",
       "      <td>Massachusetts</td>\n",
       "      <td>182544</td>\n",
       "      <td>42.262593</td>\n",
       "      <td>-71.802293</td>\n",
       "    </tr>\n",
       "    <tr>\n",
       "      <th>4</th>\n",
       "      <td>Columbia</td>\n",
       "      <td>South Carolina</td>\n",
       "      <td>133358</td>\n",
       "      <td>34.000710</td>\n",
       "      <td>-81.034814</td>\n",
       "    </tr>\n",
       "  </tbody>\n",
       "</table>\n",
       "</div>"
      ],
      "text/plain": [
       "         City           State  Population        lat         lon\n",
       "0  Marysville      Washington       63269  48.051764 -122.177082\n",
       "1      Perris      California       72326  33.782519 -117.228648\n",
       "2   Cleveland            Ohio      390113  41.499320  -81.694361\n",
       "3   Worcester   Massachusetts      182544  42.262593  -71.802293\n",
       "4    Columbia  South Carolina      133358  34.000710  -81.034814"
      ]
     },
     "execution_count": 38,
     "metadata": {},
     "output_type": "execute_result"
    }
   ],
   "source": [
    "cities = pd.read_csv(\"us-cities-top-1k.csv\")\n",
    "cities.head()"
   ]
  },
  {
   "cell_type": "code",
   "execution_count": 39,
   "id": "c0effbae-63e1-44e3-bdcc-53c411cc031d",
   "metadata": {},
   "outputs": [
    {
     "data": {
      "text/plain": [
       "0    Marysville\n",
       "1        Perris\n",
       "2     Cleveland\n",
       "3     Worcester\n",
       "4      Columbia\n",
       "Name: City, dtype: object"
      ]
     },
     "execution_count": 39,
     "metadata": {},
     "output_type": "execute_result"
    }
   ],
   "source": [
    "cities[\"City\"].head()"
   ]
  },
  {
   "cell_type": "code",
   "execution_count": 40,
   "id": "dfd9e573-a33f-4a7e-9dcf-0c17e41ffd84",
   "metadata": {},
   "outputs": [
    {
     "data": {
      "text/plain": [
       "1000"
      ]
     },
     "execution_count": 40,
     "metadata": {},
     "output_type": "execute_result"
    }
   ],
   "source": [
    "len(cities[\"City\"])"
   ]
  },
  {
   "cell_type": "code",
   "execution_count": 42,
   "id": "23b7ee89-2958-4ac8-984d-39a3ae659852",
   "metadata": {},
   "outputs": [
    {
     "data": {
      "text/plain": [
       "925"
      ]
     },
     "execution_count": 42,
     "metadata": {},
     "output_type": "execute_result"
    }
   ],
   "source": [
    "len(set(cities[\"City\"]))"
   ]
  },
  {
   "cell_type": "code",
   "execution_count": 43,
   "id": "fed4775f-abab-415a-b814-f7110038e3b3",
   "metadata": {},
   "outputs": [],
   "source": [
    "import collections\n",
    "ctr = collections.Counter(cities[\"City\"])"
   ]
  },
  {
   "cell_type": "code",
   "execution_count": 44,
   "id": "27c64a48-0c37-436d-8aae-a911cbe6948d",
   "metadata": {},
   "outputs": [
    {
     "data": {
      "text/plain": [
       "[('Springfield', 5),\n",
       " ('Lakewood', 4),\n",
       " ('Lancaster', 4),\n",
       " ('Columbus', 3),\n",
       " ('Bloomington', 3),\n",
       " ('Concord', 3),\n",
       " ('Lawrence', 3),\n",
       " ('Albany', 3),\n",
       " ('Newark', 3),\n",
       " ('Cleveland', 2),\n",
       " ('Columbia', 2),\n",
       " ('Lafayette', 2),\n",
       " ('Salem', 2),\n",
       " ('Aurora', 2),\n",
       " ('Westminster', 2),\n",
       " ('Jackson', 2),\n",
       " ('Kansas City', 2),\n",
       " ('Roswell', 2),\n",
       " ('Greenville', 2),\n",
       " ('Smyrna', 2)]"
      ]
     },
     "execution_count": 44,
     "metadata": {},
     "output_type": "execute_result"
    }
   ],
   "source": [
    "ctr.most_common(20)"
   ]
  },
  {
   "cell_type": "code",
   "execution_count": 45,
   "id": "5ddee573-56e5-4059-91b3-b298379f4619",
   "metadata": {},
   "outputs": [],
   "source": [
    "cities = pd.read_csv(\"us-cities-top-1k.csv\", index_col=0)"
   ]
  },
  {
   "cell_type": "code",
   "execution_count": 46,
   "id": "7c96f52c-383a-4e09-baf3-d8361153190b",
   "metadata": {},
   "outputs": [
    {
     "data": {
      "text/plain": [
       "1000"
      ]
     },
     "execution_count": 46,
     "metadata": {},
     "output_type": "execute_result"
    }
   ],
   "source": [
    "len(cities)"
   ]
  },
  {
   "cell_type": "code",
   "execution_count": 47,
   "id": "1fe40533-711b-468c-9301-103f5c4ff2cc",
   "metadata": {},
   "outputs": [
    {
     "data": {
      "text/html": [
       "<div>\n",
       "<style scoped>\n",
       "    .dataframe tbody tr th:only-of-type {\n",
       "        vertical-align: middle;\n",
       "    }\n",
       "\n",
       "    .dataframe tbody tr th {\n",
       "        vertical-align: top;\n",
       "    }\n",
       "\n",
       "    .dataframe thead th {\n",
       "        text-align: right;\n",
       "    }\n",
       "</style>\n",
       "<table border=\"1\" class=\"dataframe\">\n",
       "  <thead>\n",
       "    <tr style=\"text-align: right;\">\n",
       "      <th></th>\n",
       "      <th>State</th>\n",
       "      <th>Population</th>\n",
       "      <th>lat</th>\n",
       "      <th>lon</th>\n",
       "    </tr>\n",
       "    <tr>\n",
       "      <th>City</th>\n",
       "      <th></th>\n",
       "      <th></th>\n",
       "      <th></th>\n",
       "      <th></th>\n",
       "    </tr>\n",
       "  </thead>\n",
       "  <tbody>\n",
       "    <tr>\n",
       "      <th>Marysville</th>\n",
       "      <td>Washington</td>\n",
       "      <td>63269</td>\n",
       "      <td>48.051764</td>\n",
       "      <td>-122.177082</td>\n",
       "    </tr>\n",
       "    <tr>\n",
       "      <th>Perris</th>\n",
       "      <td>California</td>\n",
       "      <td>72326</td>\n",
       "      <td>33.782519</td>\n",
       "      <td>-117.228648</td>\n",
       "    </tr>\n",
       "    <tr>\n",
       "      <th>Cleveland</th>\n",
       "      <td>Ohio</td>\n",
       "      <td>390113</td>\n",
       "      <td>41.499320</td>\n",
       "      <td>-81.694361</td>\n",
       "    </tr>\n",
       "    <tr>\n",
       "      <th>Worcester</th>\n",
       "      <td>Massachusetts</td>\n",
       "      <td>182544</td>\n",
       "      <td>42.262593</td>\n",
       "      <td>-71.802293</td>\n",
       "    </tr>\n",
       "    <tr>\n",
       "      <th>Columbia</th>\n",
       "      <td>South Carolina</td>\n",
       "      <td>133358</td>\n",
       "      <td>34.000710</td>\n",
       "      <td>-81.034814</td>\n",
       "    </tr>\n",
       "    <tr>\n",
       "      <th>...</th>\n",
       "      <td>...</td>\n",
       "      <td>...</td>\n",
       "      <td>...</td>\n",
       "      <td>...</td>\n",
       "    </tr>\n",
       "    <tr>\n",
       "      <th>West New York</th>\n",
       "      <td>New Jersey</td>\n",
       "      <td>52122</td>\n",
       "      <td>40.787879</td>\n",
       "      <td>-74.014306</td>\n",
       "    </tr>\n",
       "    <tr>\n",
       "      <th>Everett</th>\n",
       "      <td>Massachusetts</td>\n",
       "      <td>42935</td>\n",
       "      <td>42.408430</td>\n",
       "      <td>-71.053663</td>\n",
       "    </tr>\n",
       "    <tr>\n",
       "      <th>Linden</th>\n",
       "      <td>New Jersey</td>\n",
       "      <td>41301</td>\n",
       "      <td>40.622048</td>\n",
       "      <td>-74.244590</td>\n",
       "    </tr>\n",
       "    <tr>\n",
       "      <th>Asheville</th>\n",
       "      <td>North Carolina</td>\n",
       "      <td>87236</td>\n",
       "      <td>35.595058</td>\n",
       "      <td>-82.551487</td>\n",
       "    </tr>\n",
       "    <tr>\n",
       "      <th>Compton</th>\n",
       "      <td>California</td>\n",
       "      <td>97877</td>\n",
       "      <td>33.895849</td>\n",
       "      <td>-118.220071</td>\n",
       "    </tr>\n",
       "  </tbody>\n",
       "</table>\n",
       "<p>1000 rows × 4 columns</p>\n",
       "</div>"
      ],
      "text/plain": [
       "                        State  Population        lat         lon\n",
       "City                                                            \n",
       "Marysville         Washington       63269  48.051764 -122.177082\n",
       "Perris             California       72326  33.782519 -117.228648\n",
       "Cleveland                Ohio      390113  41.499320  -81.694361\n",
       "Worcester       Massachusetts      182544  42.262593  -71.802293\n",
       "Columbia       South Carolina      133358  34.000710  -81.034814\n",
       "...                       ...         ...        ...         ...\n",
       "West New York      New Jersey       52122  40.787879  -74.014306\n",
       "Everett         Massachusetts       42935  42.408430  -71.053663\n",
       "Linden             New Jersey       41301  40.622048  -74.244590\n",
       "Asheville      North Carolina       87236  35.595058  -82.551487\n",
       "Compton            California       97877  33.895849 -118.220071\n",
       "\n",
       "[1000 rows x 4 columns]"
      ]
     },
     "execution_count": 47,
     "metadata": {},
     "output_type": "execute_result"
    }
   ],
   "source": [
    "cities"
   ]
  },
  {
   "cell_type": "code",
   "execution_count": 48,
   "id": "af798a3f-3464-4983-a0c5-54d9dfbce9f9",
   "metadata": {},
   "outputs": [
    {
     "data": {
      "text/html": [
       "<div>\n",
       "<style scoped>\n",
       "    .dataframe tbody tr th:only-of-type {\n",
       "        vertical-align: middle;\n",
       "    }\n",
       "\n",
       "    .dataframe tbody tr th {\n",
       "        vertical-align: top;\n",
       "    }\n",
       "\n",
       "    .dataframe thead th {\n",
       "        text-align: right;\n",
       "    }\n",
       "</style>\n",
       "<table border=\"1\" class=\"dataframe\">\n",
       "  <thead>\n",
       "    <tr style=\"text-align: right;\">\n",
       "      <th></th>\n",
       "      <th>State</th>\n",
       "      <th>Population</th>\n",
       "      <th>lat</th>\n",
       "      <th>lon</th>\n",
       "    </tr>\n",
       "    <tr>\n",
       "      <th>City</th>\n",
       "      <th></th>\n",
       "      <th></th>\n",
       "      <th></th>\n",
       "      <th></th>\n",
       "    </tr>\n",
       "  </thead>\n",
       "  <tbody>\n",
       "    <tr>\n",
       "      <th>Springfield</th>\n",
       "      <td>Illinois</td>\n",
       "      <td>117006</td>\n",
       "      <td>39.781721</td>\n",
       "      <td>-89.650148</td>\n",
       "    </tr>\n",
       "    <tr>\n",
       "      <th>Springfield</th>\n",
       "      <td>Massachusetts</td>\n",
       "      <td>153703</td>\n",
       "      <td>42.101483</td>\n",
       "      <td>-72.589811</td>\n",
       "    </tr>\n",
       "    <tr>\n",
       "      <th>Springfield</th>\n",
       "      <td>Ohio</td>\n",
       "      <td>59357</td>\n",
       "      <td>39.924227</td>\n",
       "      <td>-83.808817</td>\n",
       "    </tr>\n",
       "    <tr>\n",
       "      <th>Springfield</th>\n",
       "      <td>Missouri</td>\n",
       "      <td>164122</td>\n",
       "      <td>37.208957</td>\n",
       "      <td>-93.292299</td>\n",
       "    </tr>\n",
       "    <tr>\n",
       "      <th>Springfield</th>\n",
       "      <td>Oregon</td>\n",
       "      <td>60177</td>\n",
       "      <td>44.046236</td>\n",
       "      <td>-123.022029</td>\n",
       "    </tr>\n",
       "  </tbody>\n",
       "</table>\n",
       "</div>"
      ],
      "text/plain": [
       "                     State  Population        lat         lon\n",
       "City                                                         \n",
       "Springfield       Illinois      117006  39.781721  -89.650148\n",
       "Springfield  Massachusetts      153703  42.101483  -72.589811\n",
       "Springfield           Ohio       59357  39.924227  -83.808817\n",
       "Springfield       Missouri      164122  37.208957  -93.292299\n",
       "Springfield         Oregon       60177  44.046236 -123.022029"
      ]
     },
     "execution_count": 48,
     "metadata": {},
     "output_type": "execute_result"
    }
   ],
   "source": [
    "cities.loc[\"Springfield\"]"
   ]
  },
  {
   "cell_type": "code",
   "execution_count": 50,
   "id": "9aeaa3a0-5122-4e65-b7e9-0a86c189b792",
   "metadata": {},
   "outputs": [
    {
     "data": {
      "text/html": [
       "<div>\n",
       "<style scoped>\n",
       "    .dataframe tbody tr th:only-of-type {\n",
       "        vertical-align: middle;\n",
       "    }\n",
       "\n",
       "    .dataframe tbody tr th {\n",
       "        vertical-align: top;\n",
       "    }\n",
       "\n",
       "    .dataframe thead th {\n",
       "        text-align: right;\n",
       "    }\n",
       "</style>\n",
       "<table border=\"1\" class=\"dataframe\">\n",
       "  <thead>\n",
       "    <tr style=\"text-align: right;\">\n",
       "      <th></th>\n",
       "      <th>State</th>\n",
       "      <th>Population</th>\n",
       "      <th>lat</th>\n",
       "      <th>lon</th>\n",
       "    </tr>\n",
       "    <tr>\n",
       "      <th>City</th>\n",
       "      <th></th>\n",
       "      <th></th>\n",
       "      <th></th>\n",
       "      <th></th>\n",
       "    </tr>\n",
       "  </thead>\n",
       "  <tbody>\n",
       "    <tr>\n",
       "      <th>Perris</th>\n",
       "      <td>California</td>\n",
       "      <td>72326</td>\n",
       "      <td>33.782519</td>\n",
       "      <td>-117.228648</td>\n",
       "    </tr>\n",
       "    <tr>\n",
       "      <th>Buena Park</th>\n",
       "      <td>California</td>\n",
       "      <td>82882</td>\n",
       "      <td>33.867514</td>\n",
       "      <td>-117.998118</td>\n",
       "    </tr>\n",
       "    <tr>\n",
       "      <th>Westminster</th>\n",
       "      <td>California</td>\n",
       "      <td>91739</td>\n",
       "      <td>33.751342</td>\n",
       "      <td>-117.993992</td>\n",
       "    </tr>\n",
       "    <tr>\n",
       "      <th>Rancho Palos Verdes</th>\n",
       "      <td>California</td>\n",
       "      <td>42448</td>\n",
       "      <td>33.744461</td>\n",
       "      <td>-118.387017</td>\n",
       "    </tr>\n",
       "    <tr>\n",
       "      <th>Sacramento</th>\n",
       "      <td>California</td>\n",
       "      <td>479686</td>\n",
       "      <td>38.581572</td>\n",
       "      <td>-121.494400</td>\n",
       "    </tr>\n",
       "    <tr>\n",
       "      <th>...</th>\n",
       "      <td>...</td>\n",
       "      <td>...</td>\n",
       "      <td>...</td>\n",
       "      <td>...</td>\n",
       "    </tr>\n",
       "    <tr>\n",
       "      <th>Stanton</th>\n",
       "      <td>California</td>\n",
       "      <td>38623</td>\n",
       "      <td>33.802516</td>\n",
       "      <td>-117.993116</td>\n",
       "    </tr>\n",
       "    <tr>\n",
       "      <th>Santa Clara</th>\n",
       "      <td>California</td>\n",
       "      <td>120245</td>\n",
       "      <td>37.354108</td>\n",
       "      <td>-121.955236</td>\n",
       "    </tr>\n",
       "    <tr>\n",
       "      <th>Oceanside</th>\n",
       "      <td>California</td>\n",
       "      <td>172794</td>\n",
       "      <td>33.195870</td>\n",
       "      <td>-117.379483</td>\n",
       "    </tr>\n",
       "    <tr>\n",
       "      <th>Lake Forest</th>\n",
       "      <td>California</td>\n",
       "      <td>79312</td>\n",
       "      <td>33.646966</td>\n",
       "      <td>-117.689218</td>\n",
       "    </tr>\n",
       "    <tr>\n",
       "      <th>Compton</th>\n",
       "      <td>California</td>\n",
       "      <td>97877</td>\n",
       "      <td>33.895849</td>\n",
       "      <td>-118.220071</td>\n",
       "    </tr>\n",
       "  </tbody>\n",
       "</table>\n",
       "<p>212 rows × 4 columns</p>\n",
       "</div>"
      ],
      "text/plain": [
       "                          State  Population        lat         lon\n",
       "City                                                              \n",
       "Perris               California       72326  33.782519 -117.228648\n",
       "Buena Park           California       82882  33.867514 -117.998118\n",
       "Westminster          California       91739  33.751342 -117.993992\n",
       "Rancho Palos Verdes  California       42448  33.744461 -118.387017\n",
       "Sacramento           California      479686  38.581572 -121.494400\n",
       "...                         ...         ...        ...         ...\n",
       "Stanton              California       38623  33.802516 -117.993116\n",
       "Santa Clara          California      120245  37.354108 -121.955236\n",
       "Oceanside            California      172794  33.195870 -117.379483\n",
       "Lake Forest          California       79312  33.646966 -117.689218\n",
       "Compton              California       97877  33.895849 -118.220071\n",
       "\n",
       "[212 rows x 4 columns]"
      ]
     },
     "execution_count": 50,
     "metadata": {},
     "output_type": "execute_result"
    }
   ],
   "source": [
    "cities[cities[\"State\"] == \"California\"]"
   ]
  },
  {
   "cell_type": "code",
   "execution_count": 52,
   "id": "0e7befc5-8f33-485c-9c50-2a0dd1ca30c6",
   "metadata": {},
   "outputs": [
    {
     "data": {
      "text/plain": [
       "33"
      ]
     },
     "execution_count": 52,
     "metadata": {},
     "output_type": "execute_result"
    }
   ],
   "source": [
    "len(cities[cities[\"State\"] == \"Ohio\"])"
   ]
  },
  {
   "cell_type": "code",
   "execution_count": 57,
   "id": "f805301c-ea68-40bb-abd0-0d2daa076ca3",
   "metadata": {},
   "outputs": [
    {
     "data": {
      "text/html": [
       "<div>\n",
       "<style scoped>\n",
       "    .dataframe tbody tr th:only-of-type {\n",
       "        vertical-align: middle;\n",
       "    }\n",
       "\n",
       "    .dataframe tbody tr th {\n",
       "        vertical-align: top;\n",
       "    }\n",
       "\n",
       "    .dataframe thead th {\n",
       "        text-align: right;\n",
       "    }\n",
       "</style>\n",
       "<table border=\"1\" class=\"dataframe\">\n",
       "  <thead>\n",
       "    <tr style=\"text-align: right;\">\n",
       "      <th></th>\n",
       "      <th>State</th>\n",
       "      <th>Population</th>\n",
       "      <th>lat</th>\n",
       "      <th>lon</th>\n",
       "    </tr>\n",
       "    <tr>\n",
       "      <th>City</th>\n",
       "      <th></th>\n",
       "      <th></th>\n",
       "      <th></th>\n",
       "      <th></th>\n",
       "    </tr>\n",
       "  </thead>\n",
       "  <tbody>\n",
       "    <tr>\n",
       "      <th>Sacramento</th>\n",
       "      <td>California</td>\n",
       "      <td>479686</td>\n",
       "      <td>38.581572</td>\n",
       "      <td>-121.494400</td>\n",
       "    </tr>\n",
       "    <tr>\n",
       "      <th>San Diego</th>\n",
       "      <td>California</td>\n",
       "      <td>1355896</td>\n",
       "      <td>32.715738</td>\n",
       "      <td>-117.161084</td>\n",
       "    </tr>\n",
       "    <tr>\n",
       "      <th>Oakland</th>\n",
       "      <td>California</td>\n",
       "      <td>406253</td>\n",
       "      <td>37.804364</td>\n",
       "      <td>-122.271114</td>\n",
       "    </tr>\n",
       "    <tr>\n",
       "      <th>Long Beach</th>\n",
       "      <td>California</td>\n",
       "      <td>469428</td>\n",
       "      <td>33.770050</td>\n",
       "      <td>-118.193740</td>\n",
       "    </tr>\n",
       "    <tr>\n",
       "      <th>San Francisco</th>\n",
       "      <td>California</td>\n",
       "      <td>837442</td>\n",
       "      <td>37.774929</td>\n",
       "      <td>-122.419415</td>\n",
       "    </tr>\n",
       "    <tr>\n",
       "      <th>San Jose</th>\n",
       "      <td>California</td>\n",
       "      <td>998537</td>\n",
       "      <td>37.338208</td>\n",
       "      <td>-121.886329</td>\n",
       "    </tr>\n",
       "    <tr>\n",
       "      <th>Fresno</th>\n",
       "      <td>California</td>\n",
       "      <td>509924</td>\n",
       "      <td>36.746842</td>\n",
       "      <td>-119.772587</td>\n",
       "    </tr>\n",
       "    <tr>\n",
       "      <th>Los Angeles</th>\n",
       "      <td>California</td>\n",
       "      <td>3884307</td>\n",
       "      <td>34.052234</td>\n",
       "      <td>-118.243685</td>\n",
       "    </tr>\n",
       "  </tbody>\n",
       "</table>\n",
       "</div>"
      ],
      "text/plain": [
       "                    State  Population        lat         lon\n",
       "City                                                        \n",
       "Sacramento     California      479686  38.581572 -121.494400\n",
       "San Diego      California     1355896  32.715738 -117.161084\n",
       "Oakland        California      406253  37.804364 -122.271114\n",
       "Long Beach     California      469428  33.770050 -118.193740\n",
       "San Francisco  California      837442  37.774929 -122.419415\n",
       "San Jose       California      998537  37.338208 -121.886329\n",
       "Fresno         California      509924  36.746842 -119.772587\n",
       "Los Angeles    California     3884307  34.052234 -118.243685"
      ]
     },
     "execution_count": 57,
     "metadata": {},
     "output_type": "execute_result"
    }
   ],
   "source": [
    "cities[(cities[\"State\"] == \"California\") & (cities[\"Population\"] > 400000)]"
   ]
  },
  {
   "cell_type": "code",
   "execution_count": 58,
   "id": "c6f6de65-069e-42bd-af9c-c0e9aa140b45",
   "metadata": {},
   "outputs": [
    {
     "data": {
      "text/plain": [
       "np.int64(837442)"
      ]
     },
     "execution_count": 58,
     "metadata": {},
     "output_type": "execute_result"
    }
   ],
   "source": [
    "cities[\"Population\"][\"San Francisco\"]"
   ]
  },
  {
   "cell_type": "code",
   "execution_count": 59,
   "id": "b7dec96f-ec3b-4a4a-98f3-48c107e7dd73",
   "metadata": {},
   "outputs": [
    {
     "data": {
      "text/plain": [
       "pandas.core.series.Series"
      ]
     },
     "execution_count": 59,
     "metadata": {},
     "output_type": "execute_result"
    }
   ],
   "source": [
    "pops = cities[\"Population\"]\n",
    "type(pops)"
   ]
  },
  {
   "cell_type": "code",
   "execution_count": 60,
   "id": "7c9cef19-8f81-4db4-a989-a68fb7473813",
   "metadata": {},
   "outputs": [],
   "source": [
    "npops = pops.to_numpy()"
   ]
  },
  {
   "cell_type": "code",
   "execution_count": 61,
   "id": "5307eecc-2247-4863-9e70-997f8c44ed61",
   "metadata": {},
   "outputs": [
    {
     "data": {
      "text/plain": [
       "array([  63269,   72326,  390113,  182544,  133358,  109676,   65453,\n",
       "         73006,  124276,  214237,   51265,   82882,   59089,   48608,\n",
       "        102436,   42544,  199963,   47673,   50213,   91739,  239538,\n",
       "        181260,  172638,   73209,   62316,  467007,   42448,   61434,\n",
       "         58043,   48611,  201332,   48913,   39083,  118577,   74885,\n",
       "        202824,  258959,   39834,   67317,   38355,  479686,   87650,\n",
       "         47149,   41776,   68224,  147214,  270811,   48508,  126456,\n",
       "         82575,   52962,  210721,   76762, 1553165,   82631,  127763,\n",
       "         51522,   61969,   42757, 1257676,  107100,  131224,   78041,\n",
       "         83891,   62448,  107479,   50344,   56540,   50997,   80988,\n",
       "         65690,   56707,   66893,   89130,   43849,   60697,  127359,\n",
       "         61255,   88697,   61170,  256780,  126604,   83506,   53438,\n",
       "         45587,   54932,   39325,  144864,  146526,   60112,  378715,\n",
       "         59097,   57073,   48957,  609456,  125880,   49858,   67569,\n",
       "         71016,   68667,   38609,   65902,  649495,  117006,   40584,\n",
       "        201175,   55870,   37313,   52844,   66075,  233294,   44275,\n",
       "         40590,   52105,   37442,   66318,   78373,   55046,   43363,\n",
       "         39458,   99763,   66695,   56683,   40963,   83539,  226918,\n",
       "        822553,   59325,  268738,   84349,  645966,   51074,  110742,\n",
       "         52363,   38722,   59635,   47135,   39389,   37240,   69122,\n",
       "         99769,  100065,  229972,   39309,  431746,  139969,   66900,\n",
       "         39056,   55174,   38290,  186411,   63032,   43609, 1409019,\n",
       "        125017,   68366,   46444,   83596,   42970,   75418,  151088,\n",
       "         55419,  398121,   81050,   49267,   60509,   92020,  526116,\n",
       "         68886,   39167,  842583,   39551,  100671,   81102,  120099,\n",
       "         67032,   61397,   50458,   60070,   49188,  108817,  224922,\n",
       "        108249,   37670,   42895,  400070,   58226,  104898,   70185,\n",
       "        318416,   73790,  556495,  119980,   59366,  226877,  151348,\n",
       "         55191,   37490,   90811,  123933,  610613,   41627,  457587,\n",
       "         87776,   50233,   37999,   40922,   47989,   78327,   66297,\n",
       "         70868,  148738,   42443,  116768,   65040,   97151,   67545,\n",
       "         45508,   51483,  256496,   54790,   57170,   61653,   98424,\n",
       "        104739,   61817,   78014,   56759,   83684,   44349,   49631,\n",
       "         46402,  115708,   40388,   43341,   72864,  145948,  160614,\n",
       "         65173,   50303,  181860,   68609,   50195,   49376,  688701,\n",
       "         42635,   60872,  210358,  212113,  885400,   90412,   37385,\n",
       "         91956,   54664,   39650,   62103,  101128,  255483,   59628,\n",
       "         48592,  112067,   49998,   43250,  148483,   40383,   38015,\n",
       "         87971,   61007,   40347,  278427,   48426,   60407,   65665,\n",
       "         43509,  123099,   48733,   53665,  155662,  111378,   49177,\n",
       "        248142,   77508,   43580,  104898,   49628,   43023,   46714,\n",
       "         80429,   70812,   42889,   49799,  153703,  152061,   87965,\n",
       "         96929,  199766,  297517,   40612,   56002,   68247,  282313,\n",
       "         45129,  182020,   78967,   41778,   83860,  186254,   63338,\n",
       "         40727,   39605,   56954,   59887,   59834,  151574,   49468,\n",
       "         93282,   54686,   49087,   65184,   45799,   69999,   38816,\n",
       "         86518,  646449,   53648,   38071,  101910,  113658,  116513,\n",
       "        434353,   49228,   56143,   46281, 1355896,  171990,  108861,\n",
       "        103500,  124435,  634464,   44113,   59471,  245475,  386552,\n",
       "         52977,   58562,   45556,   37093,   37159,  147559,   62864,\n",
       "         99889,   41757,   46454,   40915,  104410,   97492,   78902,\n",
       "         84691,   37647,   87137,   89981,   55361,   76903,   50508,\n",
       "         40351,  230571,   43607,   66086,   37213,  127558,  300950,\n",
       "         46321,   96830,  136639,  148559,  137147,   41512,  406253,\n",
       "         77846,   57525,  196429,  116288,  447841,   61085,   44730,\n",
       "         63105,   74710,   41026,  194899,  118837,   57639,   47333,\n",
       "         43330,   81443,  249146,  111707,   84577,   56895,   43286,\n",
       "        843393,   71097,   37130,   54771,   80566,   70373,  131885,\n",
       "         82788,  279639,   75548,   50444,   69079,   85285,   95334,\n",
       "         51567,   86199,   84126,   64072,   60202,   39383,   68388,\n",
       "         82821,   79446,  298118,   58946,   44206,   64652,   91113,\n",
       "        112174,  183372,   96205,   44919,   42214,   82459,   61588,\n",
       "         36956,   58879,   62603,  162592,  168228,   71525,   60519,\n",
       "         82578,  143484,   51510,  234566,  107571,   67034,   54080,\n",
       "         38863,  197350,  204408,   76185,   44412,   44096,   56449,\n",
       "         55816,  173366,   45929,   41679,   76635,   91026,   67685,\n",
       "         54135,   46377,   40714,   87273,   40921,   93257,  143355,\n",
       "         71012,  469428,   88077,   47556,  159190,   53243,   63495,\n",
       "         74110,  105370,   41889,  109320,   78822,   48139,   51848,\n",
       "         86319,   38877,   93542,   66975,   39508,   49974,   69783,\n",
       "         58918,   52206,   56069,   38027,   65123,  142772,   40768,\n",
       "        167405,   90116,   70316,   54382,  837442,  203003,  136791,\n",
       "         76572,   49417,   38142,   55831,  246139,   97368,   45851,\n",
       "         52703,   62258,   37792,  213708,   40059,  121096,   78450,\n",
       "         50111,   40836,   58253,  144669,  142357,  100710,   37659,\n",
       "         37366,   39398,   39428,   69350,  652405,   40956,  161007,\n",
       "        200327,   84249,   51395,  111542,  139731,   77657,   37610,\n",
       "         59440,   59357,   79068,  345803,   86128,   98465,   81236,\n",
       "         70924,   62227,   68190,  352957,   75413,   42907,   36888,\n",
       "         90268,  439886,  204933,  192294,   52066,   53326,   98030,\n",
       "         77593,  103166,   69976,   43092,   39414,  316619,  157161,\n",
       "         54194,   70790,   73936,   96346,   45417,   45237,   73098,\n",
       "         39791,  101324,   39860,   74907,  134873,   54842,   61792,\n",
       "        123546,  104475,   42181,   54076,   41108,   73596,   64323,\n",
       "         46979,   85156,  792862,   58416,   58298,   41398, 2718782,\n",
       "        109059,   47134,   43907,  130660,   43935,  183270,   53956,\n",
       "         44641,   48612,   76419,   71948,   39765,   77677,  117044,\n",
       "         65416,   40999,   40566,   39375,   75806,   58582,   41705,\n",
       "         94275,   92472,   85728,   72952,   39331,   50821,   52403,\n",
       "         40918,  127999,   44359,  159503,   59738,   93184,   78740,\n",
       "         90231,   40167,  179590,   42150,   63279,  653450,  228653,\n",
       "        148892,   92147,   40249,   47591,   65176,   41664,   75018,\n",
       "         77147,   67815, 2195914,  106780,  117025,  117796,   48554,\n",
       "         56105,   63155,   53663,  162329,   75229,  203007,  110720,\n",
       "         47186,   94089,   65028,   54980,   43116,   40921,   42774,\n",
       "        257342,  294873,   86290,   43167,   71591,  345012,   50201,\n",
       "         59351,  133579,  136699,   54898,   91648,   37101,   42907,\n",
       "         39823,  197357,  334227,   57866,   58292,  133992,  127035,\n",
       "         51982,   52044,   50550,  115276,   78199,   85927,   47523,\n",
       "         48630,   56590,   53756,   53224,   75994,   81750,  107741,\n",
       "         47777,   56756,   89387,   57203,   81121,   37530,  150251,\n",
       "        102211,  249688,   49670,   51644,   51583,  603488,  152735,\n",
       "        171016,  128429,   38661,   93494,  130288,  674433,  127679,\n",
       "         54561,   37064,   51368,  198100,   80836,  171386,  104054,\n",
       "        609893,   52477,   56792,   51763,  110972,   46081,   91119,\n",
       "         74100,   63710,   37733,  172389,   72531,  109703,   43328,\n",
       "         40059,   61025,   70190,   45712,  164676,   45775,   55456,\n",
       "         41002,   81971,  363630,  417650,   74024,   52413,   40361,\n",
       "         66174,   73987,  100886,   87004,  207510,   47547,   45285,\n",
       "         86635,   95208,  599164,   74860,   41190,   40664,   97003,\n",
       "        106114,  214114,   55670,   40481,   53752,   52575,  308428,\n",
       "        106589,   91923,   54291,   40379,  147806,   69103,   67911,\n",
       "         56620,  347884,   65098,   43886,   44575,  126700,   41734,\n",
       "         52398,   48514,   59212,   64072,  104709,  138981,   66778,\n",
       "         39795,   81295,   63771,   49707,   40435,   59778,   50725,\n",
       "        998537,  109821,   65415,  118197,   64079,   37587,  236716,\n",
       "         54350,   38606,   48725,   66333,   61238,   99770,   83424,\n",
       "         85390,   58414,   53294,  159523,   78709,   38448,  165831,\n",
       "         60189,   44057,   51701,  110378,  448479,   47846,   78804,\n",
       "         78409,  509924,   37498,   56758,   50699,   71172,   40275,\n",
       "        236441,   62298,   82809,   80872,   72528,   38632,   40641,\n",
       "         50175,   83447,   71334,   38241,  177994,  233394,   74513,\n",
       "        167500,   84430,   76817,   39412,  196021,   60456,   59957,\n",
       "         41301,  110145,  274409,   89919,   40342,   51143,   71551,\n",
       "        100050,   95884,   61808,   49761,  622104,  164122,   46094,\n",
       "         50588,   91589,   65656,  127488,   49891,   50169,   37199,\n",
       "         78960,   58994,   63816,  203446,   47333,   42284,   45981,\n",
       "         39296, 8405837,  126181,  107740,   53063,   56481,  792727,\n",
       "         92599,  120310,  102216,   40021,   58642,  110945,   87893,\n",
       "         70365,   96539,  100223,   37711,  129030,   37165,  128731,\n",
       "         47842,  147216,   47411,   47749,   38696,   67599,  147478,\n",
       "        243344,   63820,   88826,   61488,  379577,  101074,   45426,\n",
       "         38194,   66642,   60177,   95078,   57530,   55000,   66205,\n",
       "         49133,   43060,   45796,   68001,   64544,   57282,   44820,\n",
       "         41752,  175140,   71371,   37499,   72535,   50603,  229426,\n",
       "         60568,  117240,  113972,   58590,   61050,  104779,   75570,\n",
       "         39172, 3884307,   92734,  110077,   52536,  305841,  113242,\n",
       "         84103,   95677,   36877,   50789,   90983,  191180,   43074,\n",
       "       1513367,   55298,   46663,   55717,   57468,   94034,   37839,\n",
       "         42419,   48338,  197575,  316381,   62088,   38510,  107289,\n",
       "        234632,   38623,   46074,  102157,   89407,   72939,   47555,\n",
       "         45394,  109397,   69813,   54068,  120245,  172794,   79312,\n",
       "         57960,   52122,   42935,   41301,   87236,   97877])"
      ]
     },
     "execution_count": 61,
     "metadata": {},
     "output_type": "execute_result"
    }
   ],
   "source": [
    "npops"
   ]
  },
  {
   "cell_type": "code",
   "execution_count": 62,
   "id": "2f9d8692-4832-4b81-8057-8735aa5707f3",
   "metadata": {},
   "outputs": [
    {
     "data": {
      "text/plain": [
       "numpy.ndarray"
      ]
     },
     "execution_count": 62,
     "metadata": {},
     "output_type": "execute_result"
    }
   ],
   "source": [
    "type(npops)"
   ]
  },
  {
   "cell_type": "code",
   "execution_count": 63,
   "id": "75552c37-2087-41bc-a09b-e46e76632cfe",
   "metadata": {},
   "outputs": [
    {
     "data": {
      "text/plain": [
       "1"
      ]
     },
     "execution_count": 63,
     "metadata": {},
     "output_type": "execute_result"
    }
   ],
   "source": [
    "npops.ndim"
   ]
  },
  {
   "cell_type": "code",
   "execution_count": 64,
   "id": "4d84e8e6-a4b3-4d93-a4eb-f1589ab065fa",
   "metadata": {},
   "outputs": [
    {
     "data": {
      "text/plain": [
       "False"
      ]
     },
     "execution_count": 64,
     "metadata": {},
     "output_type": "execute_result"
    }
   ],
   "source": [
    "\"San Francisco\" in cities"
   ]
  },
  {
   "cell_type": "code",
   "execution_count": 65,
   "id": "76d9caa6-2e52-475a-a4db-878c26abc978",
   "metadata": {},
   "outputs": [
    {
     "data": {
      "text/plain": [
       "True"
      ]
     },
     "execution_count": 65,
     "metadata": {},
     "output_type": "execute_result"
    }
   ],
   "source": [
    "\"State\" in cities"
   ]
  },
  {
   "cell_type": "code",
   "execution_count": 69,
   "id": "82dd3d6c-f31e-4c95-b507-0f1266198394",
   "metadata": {},
   "outputs": [
    {
     "data": {
      "text/plain": [
       "Index(['Marysville', 'Perris', 'Cleveland', 'Worcester', 'Columbia',\n",
       "       'Waterbury', 'Eagan', 'Southfield', 'Lafayette', 'Boise City',\n",
       "       ...\n",
       "       'Hendersonville', 'Santa Clara', 'Oceanside', 'Lake Forest', 'Novi',\n",
       "       'West New York', 'Everett', 'Linden', 'Asheville', 'Compton'],\n",
       "      dtype='object', name='City', length=1000)"
      ]
     },
     "execution_count": 69,
     "metadata": {},
     "output_type": "execute_result"
    }
   ],
   "source": [
    "cities.index"
   ]
  },
  {
   "cell_type": "code",
   "execution_count": 70,
   "id": "c873dadb-8e25-40ba-901b-b46d5f40a3e7",
   "metadata": {},
   "outputs": [
    {
     "data": {
      "text/plain": [
       "True"
      ]
     },
     "execution_count": 70,
     "metadata": {},
     "output_type": "execute_result"
    }
   ],
   "source": [
    "\"San Francisco\" in cities.index"
   ]
  },
  {
   "cell_type": "code",
   "execution_count": 83,
   "id": "199491e2-3de3-4f9a-8f89-614c7a788ade",
   "metadata": {},
   "outputs": [],
   "source": [
    "cities = pd.read_csv(\"us-cities-top-1k.csv\", index_col=0)"
   ]
  },
  {
   "cell_type": "code",
   "execution_count": 84,
   "id": "8ffbf086-7762-4664-a0b7-dfd05199a475",
   "metadata": {},
   "outputs": [
    {
     "data": {
      "text/plain": [
       "Index(['Marysville', 'Perris', 'Cleveland', 'Worcester', 'Columbia',\n",
       "       'Waterbury', 'Eagan', 'Southfield', 'Lafayette', 'Boise City',\n",
       "       ...\n",
       "       'Hendersonville', 'Santa Clara', 'Oceanside', 'Lake Forest', 'Novi',\n",
       "       'West New York', 'Everett', 'Linden', 'Asheville', 'Compton'],\n",
       "      dtype='object', name='City', length=1000)"
      ]
     },
     "execution_count": 84,
     "metadata": {},
     "output_type": "execute_result"
    }
   ],
   "source": [
    "cities.index"
   ]
  },
  {
   "cell_type": "code",
   "execution_count": 85,
   "id": "8aea890c-1fe2-40b4-943e-5466994bec78",
   "metadata": {},
   "outputs": [],
   "source": [
    "pops = cities[\"Population\"]"
   ]
  },
  {
   "cell_type": "code",
   "execution_count": 86,
   "id": "962af7b9-62f2-4631-bad6-7797ee2650f8",
   "metadata": {},
   "outputs": [
    {
     "data": {
      "text/plain": [
       "np.int64(837442)"
      ]
     },
     "execution_count": 86,
     "metadata": {},
     "output_type": "execute_result"
    }
   ],
   "source": [
    "pops[\"San Francisco\"]"
   ]
  },
  {
   "cell_type": "code",
   "execution_count": 87,
   "id": "baedfd41-b06b-48f8-a365-aa1d4cad0d57",
   "metadata": {},
   "outputs": [
    {
     "data": {
      "text/plain": [
       "np.int64(837442)"
      ]
     },
     "execution_count": 87,
     "metadata": {},
     "output_type": "execute_result"
    }
   ],
   "source": [
    "cities[\"Population\"][\"San Francisco\"]"
   ]
  },
  {
   "cell_type": "code",
   "execution_count": 88,
   "id": "d11c4dc5-4ec7-4767-a22c-0e25f33f6559",
   "metadata": {},
   "outputs": [
    {
     "name": "stderr",
     "output_type": "stream",
     "text": [
      "/tmp/ipykernel_13462/3154397006.py:1: SettingWithCopyWarning: \n",
      "A value is trying to be set on a copy of a slice from a DataFrame\n",
      "\n",
      "See the caveats in the documentation: https://pandas.pydata.org/pandas-docs/stable/user_guide/indexing.html#returning-a-view-versus-a-copy\n",
      "  pops[\"San Francisco\"] = 1\n"
     ]
    }
   ],
   "source": [
    "pops[\"San Francisco\"] = 1"
   ]
  },
  {
   "cell_type": "code",
   "execution_count": 89,
   "id": "e72c5c69-b306-4811-980c-7926d9f9e712",
   "metadata": {},
   "outputs": [
    {
     "data": {
      "text/plain": [
       "np.int64(1)"
      ]
     },
     "execution_count": 89,
     "metadata": {},
     "output_type": "execute_result"
    }
   ],
   "source": [
    "pops[\"San Francisco\"]"
   ]
  },
  {
   "cell_type": "code",
   "execution_count": 90,
   "id": "8cb52165-36fa-48a2-a80d-69ff2a931d94",
   "metadata": {},
   "outputs": [
    {
     "data": {
      "text/plain": [
       "np.int64(1)"
      ]
     },
     "execution_count": 90,
     "metadata": {},
     "output_type": "execute_result"
    }
   ],
   "source": [
    "cities[\"Population\"][\"San Francisco\"]"
   ]
  },
  {
   "cell_type": "code",
   "execution_count": 95,
   "id": "b0cd2eb4-2c03-40c6-bc73-cd14062ac574",
   "metadata": {},
   "outputs": [
    {
     "data": {
      "text/html": [
       "<div>\n",
       "<style scoped>\n",
       "    .dataframe tbody tr th:only-of-type {\n",
       "        vertical-align: middle;\n",
       "    }\n",
       "\n",
       "    .dataframe tbody tr th {\n",
       "        vertical-align: top;\n",
       "    }\n",
       "\n",
       "    .dataframe thead th {\n",
       "        text-align: right;\n",
       "    }\n",
       "</style>\n",
       "<table border=\"1\" class=\"dataframe\">\n",
       "  <thead>\n",
       "    <tr style=\"text-align: right;\">\n",
       "      <th></th>\n",
       "      <th>SUMLEV</th>\n",
       "      <th>REGION</th>\n",
       "      <th>DIVISION</th>\n",
       "      <th>STATE</th>\n",
       "      <th>ESTIMATESBASE2020</th>\n",
       "      <th>POPESTIMATE2020</th>\n",
       "      <th>POPESTIMATE2021</th>\n",
       "      <th>NPOPCHG_2020</th>\n",
       "      <th>NPOPCHG_2021</th>\n",
       "      <th>BIRTHS2020</th>\n",
       "      <th>...</th>\n",
       "      <th>NETMIG2020</th>\n",
       "      <th>NETMIG2021</th>\n",
       "      <th>RESIDUAL2020</th>\n",
       "      <th>RESIDUAL2021</th>\n",
       "      <th>RBIRTH2021</th>\n",
       "      <th>RDEATH2021</th>\n",
       "      <th>RNATURALINC2021</th>\n",
       "      <th>RINTERNATIONALMIG2021</th>\n",
       "      <th>RDOMESTICMIG2021</th>\n",
       "      <th>RNETMIG2021</th>\n",
       "    </tr>\n",
       "    <tr>\n",
       "      <th>NAME</th>\n",
       "      <th></th>\n",
       "      <th></th>\n",
       "      <th></th>\n",
       "      <th></th>\n",
       "      <th></th>\n",
       "      <th></th>\n",
       "      <th></th>\n",
       "      <th></th>\n",
       "      <th></th>\n",
       "      <th></th>\n",
       "      <th></th>\n",
       "      <th></th>\n",
       "      <th></th>\n",
       "      <th></th>\n",
       "      <th></th>\n",
       "      <th></th>\n",
       "      <th></th>\n",
       "      <th></th>\n",
       "      <th></th>\n",
       "      <th></th>\n",
       "      <th></th>\n",
       "    </tr>\n",
       "  </thead>\n",
       "  <tbody>\n",
       "    <tr>\n",
       "      <th>United States</th>\n",
       "      <td>10</td>\n",
       "      <td>0</td>\n",
       "      <td>0</td>\n",
       "      <td>0</td>\n",
       "      <td>331449281</td>\n",
       "      <td>331501080</td>\n",
       "      <td>331893745</td>\n",
       "      <td>51799</td>\n",
       "      <td>392665</td>\n",
       "      <td>893000</td>\n",
       "      <td>...</td>\n",
       "      <td>12247</td>\n",
       "      <td>244622</td>\n",
       "      <td>0</td>\n",
       "      <td>0</td>\n",
       "      <td>10.798957</td>\n",
       "      <td>10.352637</td>\n",
       "      <td>0.446319</td>\n",
       "      <td>0.737485</td>\n",
       "      <td>0.000000</td>\n",
       "      <td>0.737485</td>\n",
       "    </tr>\n",
       "    <tr>\n",
       "      <th>Northeast Region</th>\n",
       "      <td>20</td>\n",
       "      <td>1</td>\n",
       "      <td>0</td>\n",
       "      <td>0</td>\n",
       "      <td>57609148</td>\n",
       "      <td>57525633</td>\n",
       "      <td>57159838</td>\n",
       "      <td>-83515</td>\n",
       "      <td>-365795</td>\n",
       "      <td>145067</td>\n",
       "      <td>...</td>\n",
       "      <td>-79429</td>\n",
       "      <td>-333592</td>\n",
       "      <td>-1024</td>\n",
       "      <td>-1151</td>\n",
       "      <td>9.950554</td>\n",
       "      <td>10.492070</td>\n",
       "      <td>-0.541516</td>\n",
       "      <td>0.977386</td>\n",
       "      <td>-6.794897</td>\n",
       "      <td>-5.817511</td>\n",
       "    </tr>\n",
       "    <tr>\n",
       "      <th>Midwest Region</th>\n",
       "      <td>20</td>\n",
       "      <td>2</td>\n",
       "      <td>0</td>\n",
       "      <td>0</td>\n",
       "      <td>68985454</td>\n",
       "      <td>68935174</td>\n",
       "      <td>68841444</td>\n",
       "      <td>-50280</td>\n",
       "      <td>-93730</td>\n",
       "      <td>190941</td>\n",
       "      <td>...</td>\n",
       "      <td>-47266</td>\n",
       "      <td>-85268</td>\n",
       "      <td>-718</td>\n",
       "      <td>5156</td>\n",
       "      <td>10.860566</td>\n",
       "      <td>11.058248</td>\n",
       "      <td>-0.197682</td>\n",
       "      <td>0.549222</td>\n",
       "      <td>-1.786994</td>\n",
       "      <td>-1.237772</td>\n",
       "    </tr>\n",
       "    <tr>\n",
       "      <th>South Region</th>\n",
       "      <td>20</td>\n",
       "      <td>3</td>\n",
       "      <td>0</td>\n",
       "      <td>0</td>\n",
       "      <td>126266107</td>\n",
       "      <td>126409007</td>\n",
       "      <td>127225329</td>\n",
       "      <td>142900</td>\n",
       "      <td>816322</td>\n",
       "      <td>345546</td>\n",
       "      <td>...</td>\n",
       "      <td>134454</td>\n",
       "      <td>770076</td>\n",
       "      <td>528</td>\n",
       "      <td>-3385</td>\n",
       "      <td>11.168835</td>\n",
       "      <td>10.777476</td>\n",
       "      <td>0.391359</td>\n",
       "      <td>0.886268</td>\n",
       "      <td>5.186064</td>\n",
       "      <td>6.072332</td>\n",
       "    </tr>\n",
       "    <tr>\n",
       "      <th>West Region</th>\n",
       "      <td>20</td>\n",
       "      <td>4</td>\n",
       "      <td>0</td>\n",
       "      <td>0</td>\n",
       "      <td>78588572</td>\n",
       "      <td>78631266</td>\n",
       "      <td>78667134</td>\n",
       "      <td>42694</td>\n",
       "      <td>35868</td>\n",
       "      <td>211446</td>\n",
       "      <td>...</td>\n",
       "      <td>4488</td>\n",
       "      <td>-106594</td>\n",
       "      <td>1214</td>\n",
       "      <td>-620</td>\n",
       "      <td>10.767153</td>\n",
       "      <td>8.947910</td>\n",
       "      <td>1.819243</td>\n",
       "      <td>0.487570</td>\n",
       "      <td>-1.842880</td>\n",
       "      <td>-1.355309</td>\n",
       "    </tr>\n",
       "    <tr>\n",
       "      <th>Alabama</th>\n",
       "      <td>40</td>\n",
       "      <td>3</td>\n",
       "      <td>6</td>\n",
       "      <td>1</td>\n",
       "      <td>5024279</td>\n",
       "      <td>5024803</td>\n",
       "      <td>5039877</td>\n",
       "      <td>524</td>\n",
       "      <td>15074</td>\n",
       "      <td>13410</td>\n",
       "      <td>...</td>\n",
       "      <td>3337</td>\n",
       "      <td>23380</td>\n",
       "      <td>-75</td>\n",
       "      <td>242</td>\n",
       "      <td>11.191613</td>\n",
       "      <td>12.890226</td>\n",
       "      <td>-1.698613</td>\n",
       "      <td>0.247201</td>\n",
       "      <td>4.398749</td>\n",
       "      <td>4.645950</td>\n",
       "    </tr>\n",
       "    <tr>\n",
       "      <th>Alaska</th>\n",
       "      <td>40</td>\n",
       "      <td>4</td>\n",
       "      <td>9</td>\n",
       "      <td>2</td>\n",
       "      <td>733391</td>\n",
       "      <td>732441</td>\n",
       "      <td>732673</td>\n",
       "      <td>-950</td>\n",
       "      <td>232</td>\n",
       "      <td>2407</td>\n",
       "      <td>...</td>\n",
       "      <td>-2012</td>\n",
       "      <td>-3353</td>\n",
       "      <td>39</td>\n",
       "      <td>-54</td>\n",
       "      <td>12.667956</td>\n",
       "      <td>7.700425</td>\n",
       "      <td>4.967532</td>\n",
       "      <td>0.718033</td>\n",
       "      <td>-5.295151</td>\n",
       "      <td>-4.577118</td>\n",
       "    </tr>\n",
       "    <tr>\n",
       "      <th>Arizona</th>\n",
       "      <td>40</td>\n",
       "      <td>4</td>\n",
       "      <td>8</td>\n",
       "      <td>4</td>\n",
       "      <td>7151502</td>\n",
       "      <td>7177986</td>\n",
       "      <td>7276316</td>\n",
       "      <td>26484</td>\n",
       "      <td>98330</td>\n",
       "      <td>18036</td>\n",
       "      <td>...</td>\n",
       "      <td>26791</td>\n",
       "      <td>97504</td>\n",
       "      <td>-3</td>\n",
       "      <td>-6</td>\n",
       "      <td>10.584669</td>\n",
       "      <td>10.469547</td>\n",
       "      <td>0.115121</td>\n",
       "      <td>0.619608</td>\n",
       "      <td>12.871739</td>\n",
       "      <td>13.491347</td>\n",
       "    </tr>\n",
       "    <tr>\n",
       "      <th>Arkansas</th>\n",
       "      <td>40</td>\n",
       "      <td>3</td>\n",
       "      <td>7</td>\n",
       "      <td>5</td>\n",
       "      <td>3011524</td>\n",
       "      <td>3012232</td>\n",
       "      <td>3025891</td>\n",
       "      <td>708</td>\n",
       "      <td>13659</td>\n",
       "      <td>8554</td>\n",
       "      <td>...</td>\n",
       "      <td>1618</td>\n",
       "      <td>16840</td>\n",
       "      <td>-15</td>\n",
       "      <td>55</td>\n",
       "      <td>11.599962</td>\n",
       "      <td>12.671819</td>\n",
       "      <td>-1.071856</td>\n",
       "      <td>0.272932</td>\n",
       "      <td>5.304960</td>\n",
       "      <td>5.577892</td>\n",
       "    </tr>\n",
       "    <tr>\n",
       "      <th>California</th>\n",
       "      <td>40</td>\n",
       "      <td>4</td>\n",
       "      <td>9</td>\n",
       "      <td>6</td>\n",
       "      <td>39538223</td>\n",
       "      <td>39499738</td>\n",
       "      <td>39237836</td>\n",
       "      <td>-38485</td>\n",
       "      <td>-261902</td>\n",
       "      <td>104957</td>\n",
       "      <td>...</td>\n",
       "      <td>-62562</td>\n",
       "      <td>-352960</td>\n",
       "      <td>858</td>\n",
       "      <td>-938</td>\n",
       "      <td>10.778412</td>\n",
       "      <td>8.441637</td>\n",
       "      <td>2.336775</td>\n",
       "      <td>0.364223</td>\n",
       "      <td>-9.329701</td>\n",
       "      <td>-8.965478</td>\n",
       "    </tr>\n",
       "  </tbody>\n",
       "</table>\n",
       "<p>10 rows × 29 columns</p>\n",
       "</div>"
      ],
      "text/plain": [
       "                  SUMLEV REGION DIVISION  STATE  ESTIMATESBASE2020  \\\n",
       "NAME                                                                 \n",
       "United States         10      0        0      0          331449281   \n",
       "Northeast Region      20      1        0      0           57609148   \n",
       "Midwest Region        20      2        0      0           68985454   \n",
       "South Region          20      3        0      0          126266107   \n",
       "West Region           20      4        0      0           78588572   \n",
       "Alabama               40      3        6      1            5024279   \n",
       "Alaska                40      4        9      2             733391   \n",
       "Arizona               40      4        8      4            7151502   \n",
       "Arkansas              40      3        7      5            3011524   \n",
       "California            40      4        9      6           39538223   \n",
       "\n",
       "                  POPESTIMATE2020  POPESTIMATE2021  NPOPCHG_2020  \\\n",
       "NAME                                                               \n",
       "United States           331501080        331893745         51799   \n",
       "Northeast Region         57525633         57159838        -83515   \n",
       "Midwest Region           68935174         68841444        -50280   \n",
       "South Region            126409007        127225329        142900   \n",
       "West Region              78631266         78667134         42694   \n",
       "Alabama                   5024803          5039877           524   \n",
       "Alaska                     732441           732673          -950   \n",
       "Arizona                   7177986          7276316         26484   \n",
       "Arkansas                  3012232          3025891           708   \n",
       "California               39499738         39237836        -38485   \n",
       "\n",
       "                  NPOPCHG_2021  BIRTHS2020  ...  NETMIG2020  NETMIG2021  \\\n",
       "NAME                                        ...                           \n",
       "United States           392665      893000  ...       12247      244622   \n",
       "Northeast Region       -365795      145067  ...      -79429     -333592   \n",
       "Midwest Region          -93730      190941  ...      -47266      -85268   \n",
       "South Region            816322      345546  ...      134454      770076   \n",
       "West Region              35868      211446  ...        4488     -106594   \n",
       "Alabama                  15074       13410  ...        3337       23380   \n",
       "Alaska                     232        2407  ...       -2012       -3353   \n",
       "Arizona                  98330       18036  ...       26791       97504   \n",
       "Arkansas                 13659        8554  ...        1618       16840   \n",
       "California             -261902      104957  ...      -62562     -352960   \n",
       "\n",
       "                  RESIDUAL2020  RESIDUAL2021  RBIRTH2021  RDEATH2021  \\\n",
       "NAME                                                                   \n",
       "United States                0             0   10.798957   10.352637   \n",
       "Northeast Region         -1024         -1151    9.950554   10.492070   \n",
       "Midwest Region            -718          5156   10.860566   11.058248   \n",
       "South Region               528         -3385   11.168835   10.777476   \n",
       "West Region               1214          -620   10.767153    8.947910   \n",
       "Alabama                    -75           242   11.191613   12.890226   \n",
       "Alaska                      39           -54   12.667956    7.700425   \n",
       "Arizona                     -3            -6   10.584669   10.469547   \n",
       "Arkansas                   -15            55   11.599962   12.671819   \n",
       "California                 858          -938   10.778412    8.441637   \n",
       "\n",
       "                  RNATURALINC2021  RINTERNATIONALMIG2021  RDOMESTICMIG2021  \\\n",
       "NAME                                                                         \n",
       "United States            0.446319               0.737485          0.000000   \n",
       "Northeast Region        -0.541516               0.977386         -6.794897   \n",
       "Midwest Region          -0.197682               0.549222         -1.786994   \n",
       "South Region             0.391359               0.886268          5.186064   \n",
       "West Region              1.819243               0.487570         -1.842880   \n",
       "Alabama                 -1.698613               0.247201          4.398749   \n",
       "Alaska                   4.967532               0.718033         -5.295151   \n",
       "Arizona                  0.115121               0.619608         12.871739   \n",
       "Arkansas                -1.071856               0.272932          5.304960   \n",
       "California               2.336775               0.364223         -9.329701   \n",
       "\n",
       "                  RNETMIG2021  \n",
       "NAME                           \n",
       "United States        0.737485  \n",
       "Northeast Region    -5.817511  \n",
       "Midwest Region      -1.237772  \n",
       "South Region         6.072332  \n",
       "West Region         -1.355309  \n",
       "Alabama              4.645950  \n",
       "Alaska              -4.577118  \n",
       "Arizona             13.491347  \n",
       "Arkansas             5.577892  \n",
       "California          -8.965478  \n",
       "\n",
       "[10 rows x 29 columns]"
      ]
     },
     "execution_count": 95,
     "metadata": {},
     "output_type": "execute_result"
    }
   ],
   "source": [
    "states = pd.read_csv(\"NST-EST2021-alldata.csv\", index_col=4)\n",
    "states.head(10)"
   ]
  },
  {
   "cell_type": "code",
   "execution_count": 96,
   "id": "5f5715d6-76e0-434a-9ce6-2c4b9ed5bcff",
   "metadata": {},
   "outputs": [
    {
     "data": {
      "text/plain": [
       "SUMLEV                          10\n",
       "REGION                           0\n",
       "DIVISION                         0\n",
       "STATE                            0\n",
       "ESTIMATESBASE2020        331449281\n",
       "POPESTIMATE2020          331501080\n",
       "POPESTIMATE2021          331893745\n",
       "NPOPCHG_2020                 51799\n",
       "NPOPCHG_2021                392665\n",
       "BIRTHS2020                  893000\n",
       "BIRTHS2021                 3581986\n",
       "DEATHS2020                  853448\n",
       "DEATHS2021                 3433943\n",
       "NATURALINC2020               39552\n",
       "NATURALINC2021              148043\n",
       "INTERNATIONALMIG2020         12247\n",
       "INTERNATIONALMIG2021        244622\n",
       "DOMESTICMIG2020                  0\n",
       "DOMESTICMIG2021                  0\n",
       "NETMIG2020                   12247\n",
       "NETMIG2021                  244622\n",
       "RESIDUAL2020                     0\n",
       "RESIDUAL2021                     0\n",
       "RBIRTH2021               10.798957\n",
       "RDEATH2021               10.352637\n",
       "RNATURALINC2021           0.446319\n",
       "RINTERNATIONALMIG2021     0.737485\n",
       "RDOMESTICMIG2021               0.0\n",
       "RNETMIG2021               0.737485\n",
       "Name: United States, dtype: object"
      ]
     },
     "execution_count": 96,
     "metadata": {},
     "output_type": "execute_result"
    }
   ],
   "source": [
    "states.iloc[0]"
   ]
  },
  {
   "cell_type": "code",
   "execution_count": 97,
   "id": "fdb0bf02-071b-44d2-b381-9dd0f3a123f4",
   "metadata": {},
   "outputs": [
    {
     "data": {
      "text/html": [
       "<div>\n",
       "<style scoped>\n",
       "    .dataframe tbody tr th:only-of-type {\n",
       "        vertical-align: middle;\n",
       "    }\n",
       "\n",
       "    .dataframe tbody tr th {\n",
       "        vertical-align: top;\n",
       "    }\n",
       "\n",
       "    .dataframe thead th {\n",
       "        text-align: right;\n",
       "    }\n",
       "</style>\n",
       "<table border=\"1\" class=\"dataframe\">\n",
       "  <thead>\n",
       "    <tr style=\"text-align: right;\">\n",
       "      <th></th>\n",
       "      <th>SUMLEV</th>\n",
       "      <th>REGION</th>\n",
       "      <th>DIVISION</th>\n",
       "      <th>STATE</th>\n",
       "      <th>ESTIMATESBASE2020</th>\n",
       "      <th>POPESTIMATE2020</th>\n",
       "      <th>POPESTIMATE2021</th>\n",
       "      <th>NPOPCHG_2020</th>\n",
       "      <th>NPOPCHG_2021</th>\n",
       "      <th>BIRTHS2020</th>\n",
       "      <th>...</th>\n",
       "      <th>NETMIG2020</th>\n",
       "      <th>NETMIG2021</th>\n",
       "      <th>RESIDUAL2020</th>\n",
       "      <th>RESIDUAL2021</th>\n",
       "      <th>RBIRTH2021</th>\n",
       "      <th>RDEATH2021</th>\n",
       "      <th>RNATURALINC2021</th>\n",
       "      <th>RINTERNATIONALMIG2021</th>\n",
       "      <th>RDOMESTICMIG2021</th>\n",
       "      <th>RNETMIG2021</th>\n",
       "    </tr>\n",
       "    <tr>\n",
       "      <th>NAME</th>\n",
       "      <th></th>\n",
       "      <th></th>\n",
       "      <th></th>\n",
       "      <th></th>\n",
       "      <th></th>\n",
       "      <th></th>\n",
       "      <th></th>\n",
       "      <th></th>\n",
       "      <th></th>\n",
       "      <th></th>\n",
       "      <th></th>\n",
       "      <th></th>\n",
       "      <th></th>\n",
       "      <th></th>\n",
       "      <th></th>\n",
       "      <th></th>\n",
       "      <th></th>\n",
       "      <th></th>\n",
       "      <th></th>\n",
       "      <th></th>\n",
       "      <th></th>\n",
       "    </tr>\n",
       "  </thead>\n",
       "  <tbody>\n",
       "    <tr>\n",
       "      <th>Alabama</th>\n",
       "      <td>40</td>\n",
       "      <td>3</td>\n",
       "      <td>6</td>\n",
       "      <td>1</td>\n",
       "      <td>5024279</td>\n",
       "      <td>5024803</td>\n",
       "      <td>5039877</td>\n",
       "      <td>524</td>\n",
       "      <td>15074</td>\n",
       "      <td>13410</td>\n",
       "      <td>...</td>\n",
       "      <td>3337</td>\n",
       "      <td>23380</td>\n",
       "      <td>-75</td>\n",
       "      <td>242</td>\n",
       "      <td>11.191613</td>\n",
       "      <td>12.890226</td>\n",
       "      <td>-1.698613</td>\n",
       "      <td>0.247201</td>\n",
       "      <td>4.398749</td>\n",
       "      <td>4.645950</td>\n",
       "    </tr>\n",
       "    <tr>\n",
       "      <th>Alaska</th>\n",
       "      <td>40</td>\n",
       "      <td>4</td>\n",
       "      <td>9</td>\n",
       "      <td>2</td>\n",
       "      <td>733391</td>\n",
       "      <td>732441</td>\n",
       "      <td>732673</td>\n",
       "      <td>-950</td>\n",
       "      <td>232</td>\n",
       "      <td>2407</td>\n",
       "      <td>...</td>\n",
       "      <td>-2012</td>\n",
       "      <td>-3353</td>\n",
       "      <td>39</td>\n",
       "      <td>-54</td>\n",
       "      <td>12.667956</td>\n",
       "      <td>7.700425</td>\n",
       "      <td>4.967532</td>\n",
       "      <td>0.718033</td>\n",
       "      <td>-5.295151</td>\n",
       "      <td>-4.577118</td>\n",
       "    </tr>\n",
       "    <tr>\n",
       "      <th>Arizona</th>\n",
       "      <td>40</td>\n",
       "      <td>4</td>\n",
       "      <td>8</td>\n",
       "      <td>4</td>\n",
       "      <td>7151502</td>\n",
       "      <td>7177986</td>\n",
       "      <td>7276316</td>\n",
       "      <td>26484</td>\n",
       "      <td>98330</td>\n",
       "      <td>18036</td>\n",
       "      <td>...</td>\n",
       "      <td>26791</td>\n",
       "      <td>97504</td>\n",
       "      <td>-3</td>\n",
       "      <td>-6</td>\n",
       "      <td>10.584669</td>\n",
       "      <td>10.469547</td>\n",
       "      <td>0.115121</td>\n",
       "      <td>0.619608</td>\n",
       "      <td>12.871739</td>\n",
       "      <td>13.491347</td>\n",
       "    </tr>\n",
       "    <tr>\n",
       "      <th>Arkansas</th>\n",
       "      <td>40</td>\n",
       "      <td>3</td>\n",
       "      <td>7</td>\n",
       "      <td>5</td>\n",
       "      <td>3011524</td>\n",
       "      <td>3012232</td>\n",
       "      <td>3025891</td>\n",
       "      <td>708</td>\n",
       "      <td>13659</td>\n",
       "      <td>8554</td>\n",
       "      <td>...</td>\n",
       "      <td>1618</td>\n",
       "      <td>16840</td>\n",
       "      <td>-15</td>\n",
       "      <td>55</td>\n",
       "      <td>11.599962</td>\n",
       "      <td>12.671819</td>\n",
       "      <td>-1.071856</td>\n",
       "      <td>0.272932</td>\n",
       "      <td>5.304960</td>\n",
       "      <td>5.577892</td>\n",
       "    </tr>\n",
       "    <tr>\n",
       "      <th>California</th>\n",
       "      <td>40</td>\n",
       "      <td>4</td>\n",
       "      <td>9</td>\n",
       "      <td>6</td>\n",
       "      <td>39538223</td>\n",
       "      <td>39499738</td>\n",
       "      <td>39237836</td>\n",
       "      <td>-38485</td>\n",
       "      <td>-261902</td>\n",
       "      <td>104957</td>\n",
       "      <td>...</td>\n",
       "      <td>-62562</td>\n",
       "      <td>-352960</td>\n",
       "      <td>858</td>\n",
       "      <td>-938</td>\n",
       "      <td>10.778412</td>\n",
       "      <td>8.441637</td>\n",
       "      <td>2.336775</td>\n",
       "      <td>0.364223</td>\n",
       "      <td>-9.329701</td>\n",
       "      <td>-8.965478</td>\n",
       "    </tr>\n",
       "  </tbody>\n",
       "</table>\n",
       "<p>5 rows × 29 columns</p>\n",
       "</div>"
      ],
      "text/plain": [
       "            SUMLEV REGION DIVISION  STATE  ESTIMATESBASE2020  POPESTIMATE2020  \\\n",
       "NAME                                                                            \n",
       "Alabama         40      3        6      1            5024279          5024803   \n",
       "Alaska          40      4        9      2             733391           732441   \n",
       "Arizona         40      4        8      4            7151502          7177986   \n",
       "Arkansas        40      3        7      5            3011524          3012232   \n",
       "California      40      4        9      6           39538223         39499738   \n",
       "\n",
       "            POPESTIMATE2021  NPOPCHG_2020  NPOPCHG_2021  BIRTHS2020  ...  \\\n",
       "NAME                                                                 ...   \n",
       "Alabama             5039877           524         15074       13410  ...   \n",
       "Alaska               732673          -950           232        2407  ...   \n",
       "Arizona             7276316         26484         98330       18036  ...   \n",
       "Arkansas            3025891           708         13659        8554  ...   \n",
       "California         39237836        -38485       -261902      104957  ...   \n",
       "\n",
       "            NETMIG2020  NETMIG2021  RESIDUAL2020  RESIDUAL2021  RBIRTH2021  \\\n",
       "NAME                                                                         \n",
       "Alabama           3337       23380           -75           242   11.191613   \n",
       "Alaska           -2012       -3353            39           -54   12.667956   \n",
       "Arizona          26791       97504            -3            -6   10.584669   \n",
       "Arkansas          1618       16840           -15            55   11.599962   \n",
       "California      -62562     -352960           858          -938   10.778412   \n",
       "\n",
       "            RDEATH2021  RNATURALINC2021  RINTERNATIONALMIG2021  \\\n",
       "NAME                                                             \n",
       "Alabama      12.890226        -1.698613               0.247201   \n",
       "Alaska        7.700425         4.967532               0.718033   \n",
       "Arizona      10.469547         0.115121               0.619608   \n",
       "Arkansas     12.671819        -1.071856               0.272932   \n",
       "California    8.441637         2.336775               0.364223   \n",
       "\n",
       "            RDOMESTICMIG2021  RNETMIG2021  \n",
       "NAME                                       \n",
       "Alabama             4.398749     4.645950  \n",
       "Alaska             -5.295151    -4.577118  \n",
       "Arizona            12.871739    13.491347  \n",
       "Arkansas            5.304960     5.577892  \n",
       "California         -9.329701    -8.965478  \n",
       "\n",
       "[5 rows x 29 columns]"
      ]
     },
     "execution_count": 97,
     "metadata": {},
     "output_type": "execute_result"
    }
   ],
   "source": [
    "sideboard = states[states[\"STATE\"] > 0]\n",
    "sideboard.head()"
   ]
  },
  {
   "cell_type": "code",
   "execution_count": 98,
   "id": "fb220d5f-29c3-4afe-9a08-c5812ad0756d",
   "metadata": {},
   "outputs": [
    {
     "data": {
      "text/html": [
       "<div>\n",
       "<style scoped>\n",
       "    .dataframe tbody tr th:only-of-type {\n",
       "        vertical-align: middle;\n",
       "    }\n",
       "\n",
       "    .dataframe tbody tr th {\n",
       "        vertical-align: top;\n",
       "    }\n",
       "\n",
       "    .dataframe thead th {\n",
       "        text-align: right;\n",
       "    }\n",
       "</style>\n",
       "<table border=\"1\" class=\"dataframe\">\n",
       "  <thead>\n",
       "    <tr style=\"text-align: right;\">\n",
       "      <th></th>\n",
       "      <th>SUMLEV</th>\n",
       "      <th>REGION</th>\n",
       "      <th>DIVISION</th>\n",
       "      <th>STATE</th>\n",
       "      <th>ESTIMATESBASE2020</th>\n",
       "      <th>POPESTIMATE2020</th>\n",
       "      <th>POPESTIMATE2021</th>\n",
       "      <th>NPOPCHG_2020</th>\n",
       "      <th>NPOPCHG_2021</th>\n",
       "      <th>BIRTHS2020</th>\n",
       "      <th>...</th>\n",
       "      <th>NETMIG2020</th>\n",
       "      <th>NETMIG2021</th>\n",
       "      <th>RESIDUAL2020</th>\n",
       "      <th>RESIDUAL2021</th>\n",
       "      <th>RBIRTH2021</th>\n",
       "      <th>RDEATH2021</th>\n",
       "      <th>RNATURALINC2021</th>\n",
       "      <th>RINTERNATIONALMIG2021</th>\n",
       "      <th>RDOMESTICMIG2021</th>\n",
       "      <th>RNETMIG2021</th>\n",
       "    </tr>\n",
       "    <tr>\n",
       "      <th>NAME</th>\n",
       "      <th></th>\n",
       "      <th></th>\n",
       "      <th></th>\n",
       "      <th></th>\n",
       "      <th></th>\n",
       "      <th></th>\n",
       "      <th></th>\n",
       "      <th></th>\n",
       "      <th></th>\n",
       "      <th></th>\n",
       "      <th></th>\n",
       "      <th></th>\n",
       "      <th></th>\n",
       "      <th></th>\n",
       "      <th></th>\n",
       "      <th></th>\n",
       "      <th></th>\n",
       "      <th></th>\n",
       "      <th></th>\n",
       "      <th></th>\n",
       "      <th></th>\n",
       "    </tr>\n",
       "  </thead>\n",
       "  <tbody>\n",
       "    <tr>\n",
       "      <th>Alabama</th>\n",
       "      <td>40</td>\n",
       "      <td>3</td>\n",
       "      <td>6</td>\n",
       "      <td>1</td>\n",
       "      <td>5024279</td>\n",
       "      <td>5024803</td>\n",
       "      <td>5039877</td>\n",
       "      <td>524</td>\n",
       "      <td>15074</td>\n",
       "      <td>13410</td>\n",
       "      <td>...</td>\n",
       "      <td>3337</td>\n",
       "      <td>23380</td>\n",
       "      <td>-75</td>\n",
       "      <td>242</td>\n",
       "      <td>11.191613</td>\n",
       "      <td>12.890226</td>\n",
       "      <td>-1.698613</td>\n",
       "      <td>0.247201</td>\n",
       "      <td>4.398749</td>\n",
       "      <td>4.645950</td>\n",
       "    </tr>\n",
       "    <tr>\n",
       "      <th>Alaska</th>\n",
       "      <td>40</td>\n",
       "      <td>4</td>\n",
       "      <td>9</td>\n",
       "      <td>2</td>\n",
       "      <td>733391</td>\n",
       "      <td>732441</td>\n",
       "      <td>732673</td>\n",
       "      <td>-950</td>\n",
       "      <td>232</td>\n",
       "      <td>2407</td>\n",
       "      <td>...</td>\n",
       "      <td>-2012</td>\n",
       "      <td>-3353</td>\n",
       "      <td>39</td>\n",
       "      <td>-54</td>\n",
       "      <td>12.667956</td>\n",
       "      <td>7.700425</td>\n",
       "      <td>4.967532</td>\n",
       "      <td>0.718033</td>\n",
       "      <td>-5.295151</td>\n",
       "      <td>-4.577118</td>\n",
       "    </tr>\n",
       "    <tr>\n",
       "      <th>Arizona</th>\n",
       "      <td>40</td>\n",
       "      <td>4</td>\n",
       "      <td>8</td>\n",
       "      <td>4</td>\n",
       "      <td>7151502</td>\n",
       "      <td>7177986</td>\n",
       "      <td>7276316</td>\n",
       "      <td>26484</td>\n",
       "      <td>98330</td>\n",
       "      <td>18036</td>\n",
       "      <td>...</td>\n",
       "      <td>26791</td>\n",
       "      <td>97504</td>\n",
       "      <td>-3</td>\n",
       "      <td>-6</td>\n",
       "      <td>10.584669</td>\n",
       "      <td>10.469547</td>\n",
       "      <td>0.115121</td>\n",
       "      <td>0.619608</td>\n",
       "      <td>12.871739</td>\n",
       "      <td>13.491347</td>\n",
       "    </tr>\n",
       "    <tr>\n",
       "      <th>Arkansas</th>\n",
       "      <td>40</td>\n",
       "      <td>3</td>\n",
       "      <td>7</td>\n",
       "      <td>5</td>\n",
       "      <td>3011524</td>\n",
       "      <td>3012232</td>\n",
       "      <td>3025891</td>\n",
       "      <td>708</td>\n",
       "      <td>13659</td>\n",
       "      <td>8554</td>\n",
       "      <td>...</td>\n",
       "      <td>1618</td>\n",
       "      <td>16840</td>\n",
       "      <td>-15</td>\n",
       "      <td>55</td>\n",
       "      <td>11.599962</td>\n",
       "      <td>12.671819</td>\n",
       "      <td>-1.071856</td>\n",
       "      <td>0.272932</td>\n",
       "      <td>5.304960</td>\n",
       "      <td>5.577892</td>\n",
       "    </tr>\n",
       "    <tr>\n",
       "      <th>California</th>\n",
       "      <td>40</td>\n",
       "      <td>4</td>\n",
       "      <td>9</td>\n",
       "      <td>6</td>\n",
       "      <td>39538223</td>\n",
       "      <td>39499738</td>\n",
       "      <td>39237836</td>\n",
       "      <td>-38485</td>\n",
       "      <td>-261902</td>\n",
       "      <td>104957</td>\n",
       "      <td>...</td>\n",
       "      <td>-62562</td>\n",
       "      <td>-352960</td>\n",
       "      <td>858</td>\n",
       "      <td>-938</td>\n",
       "      <td>10.778412</td>\n",
       "      <td>8.441637</td>\n",
       "      <td>2.336775</td>\n",
       "      <td>0.364223</td>\n",
       "      <td>-9.329701</td>\n",
       "      <td>-8.965478</td>\n",
       "    </tr>\n",
       "  </tbody>\n",
       "</table>\n",
       "<p>5 rows × 29 columns</p>\n",
       "</div>"
      ],
      "text/plain": [
       "            SUMLEV REGION DIVISION  STATE  ESTIMATESBASE2020  POPESTIMATE2020  \\\n",
       "NAME                                                                            \n",
       "Alabama         40      3        6      1            5024279          5024803   \n",
       "Alaska          40      4        9      2             733391           732441   \n",
       "Arizona         40      4        8      4            7151502          7177986   \n",
       "Arkansas        40      3        7      5            3011524          3012232   \n",
       "California      40      4        9      6           39538223         39499738   \n",
       "\n",
       "            POPESTIMATE2021  NPOPCHG_2020  NPOPCHG_2021  BIRTHS2020  ...  \\\n",
       "NAME                                                                 ...   \n",
       "Alabama             5039877           524         15074       13410  ...   \n",
       "Alaska               732673          -950           232        2407  ...   \n",
       "Arizona             7276316         26484         98330       18036  ...   \n",
       "Arkansas            3025891           708         13659        8554  ...   \n",
       "California         39237836        -38485       -261902      104957  ...   \n",
       "\n",
       "            NETMIG2020  NETMIG2021  RESIDUAL2020  RESIDUAL2021  RBIRTH2021  \\\n",
       "NAME                                                                         \n",
       "Alabama           3337       23380           -75           242   11.191613   \n",
       "Alaska           -2012       -3353            39           -54   12.667956   \n",
       "Arizona          26791       97504            -3            -6   10.584669   \n",
       "Arkansas          1618       16840           -15            55   11.599962   \n",
       "California      -62562     -352960           858          -938   10.778412   \n",
       "\n",
       "            RDEATH2021  RNATURALINC2021  RINTERNATIONALMIG2021  \\\n",
       "NAME                                                             \n",
       "Alabama      12.890226        -1.698613               0.247201   \n",
       "Alaska        7.700425         4.967532               0.718033   \n",
       "Arizona      10.469547         0.115121               0.619608   \n",
       "Arkansas     12.671819        -1.071856               0.272932   \n",
       "California    8.441637         2.336775               0.364223   \n",
       "\n",
       "            RDOMESTICMIG2021  RNETMIG2021  \n",
       "NAME                                       \n",
       "Alabama             4.398749     4.645950  \n",
       "Alaska             -5.295151    -4.577118  \n",
       "Arizona            12.871739    13.491347  \n",
       "Arkansas            5.304960     5.577892  \n",
       "California         -9.329701    -8.965478  \n",
       "\n",
       "[5 rows x 29 columns]"
      ]
     },
     "execution_count": 98,
     "metadata": {},
     "output_type": "execute_result"
    }
   ],
   "source": [
    "backleft = states[states[\"SUMLEV\"] == 40]\n",
    "backleft.head()"
   ]
  },
  {
   "cell_type": "code",
   "execution_count": 101,
   "id": "d63b5359-eb3e-430c-af64-9442fe7d08de",
   "metadata": {},
   "outputs": [
    {
     "data": {
      "text/html": [
       "<div>\n",
       "<style scoped>\n",
       "    .dataframe tbody tr th:only-of-type {\n",
       "        vertical-align: middle;\n",
       "    }\n",
       "\n",
       "    .dataframe tbody tr th {\n",
       "        vertical-align: top;\n",
       "    }\n",
       "\n",
       "    .dataframe thead th {\n",
       "        text-align: right;\n",
       "    }\n",
       "</style>\n",
       "<table border=\"1\" class=\"dataframe\">\n",
       "  <thead>\n",
       "    <tr style=\"text-align: right;\">\n",
       "      <th></th>\n",
       "      <th>SUMLEV</th>\n",
       "      <th>REGION</th>\n",
       "      <th>DIVISION</th>\n",
       "      <th>STATE</th>\n",
       "      <th>ESTIMATESBASE2020</th>\n",
       "      <th>POPESTIMATE2020</th>\n",
       "      <th>POPESTIMATE2021</th>\n",
       "      <th>NPOPCHG_2020</th>\n",
       "      <th>NPOPCHG_2021</th>\n",
       "      <th>BIRTHS2020</th>\n",
       "      <th>...</th>\n",
       "      <th>NETMIG2020</th>\n",
       "      <th>NETMIG2021</th>\n",
       "      <th>RESIDUAL2020</th>\n",
       "      <th>RESIDUAL2021</th>\n",
       "      <th>RBIRTH2021</th>\n",
       "      <th>RDEATH2021</th>\n",
       "      <th>RNATURALINC2021</th>\n",
       "      <th>RINTERNATIONALMIG2021</th>\n",
       "      <th>RDOMESTICMIG2021</th>\n",
       "      <th>RNETMIG2021</th>\n",
       "    </tr>\n",
       "    <tr>\n",
       "      <th>NAME</th>\n",
       "      <th></th>\n",
       "      <th></th>\n",
       "      <th></th>\n",
       "      <th></th>\n",
       "      <th></th>\n",
       "      <th></th>\n",
       "      <th></th>\n",
       "      <th></th>\n",
       "      <th></th>\n",
       "      <th></th>\n",
       "      <th></th>\n",
       "      <th></th>\n",
       "      <th></th>\n",
       "      <th></th>\n",
       "      <th></th>\n",
       "      <th></th>\n",
       "      <th></th>\n",
       "      <th></th>\n",
       "      <th></th>\n",
       "      <th></th>\n",
       "      <th></th>\n",
       "    </tr>\n",
       "  </thead>\n",
       "  <tbody>\n",
       "    <tr>\n",
       "      <th>Alabama</th>\n",
       "      <td>40</td>\n",
       "      <td>3</td>\n",
       "      <td>6</td>\n",
       "      <td>1</td>\n",
       "      <td>5024279</td>\n",
       "      <td>5024803</td>\n",
       "      <td>5039877</td>\n",
       "      <td>524</td>\n",
       "      <td>15074</td>\n",
       "      <td>13410</td>\n",
       "      <td>...</td>\n",
       "      <td>3337</td>\n",
       "      <td>23380</td>\n",
       "      <td>-75</td>\n",
       "      <td>242</td>\n",
       "      <td>11.191613</td>\n",
       "      <td>12.890226</td>\n",
       "      <td>-1.698613</td>\n",
       "      <td>0.247201</td>\n",
       "      <td>4.398749</td>\n",
       "      <td>4.645950</td>\n",
       "    </tr>\n",
       "    <tr>\n",
       "      <th>Alaska</th>\n",
       "      <td>40</td>\n",
       "      <td>4</td>\n",
       "      <td>9</td>\n",
       "      <td>2</td>\n",
       "      <td>733391</td>\n",
       "      <td>732441</td>\n",
       "      <td>732673</td>\n",
       "      <td>-950</td>\n",
       "      <td>232</td>\n",
       "      <td>2407</td>\n",
       "      <td>...</td>\n",
       "      <td>-2012</td>\n",
       "      <td>-3353</td>\n",
       "      <td>39</td>\n",
       "      <td>-54</td>\n",
       "      <td>12.667956</td>\n",
       "      <td>7.700425</td>\n",
       "      <td>4.967532</td>\n",
       "      <td>0.718033</td>\n",
       "      <td>-5.295151</td>\n",
       "      <td>-4.577118</td>\n",
       "    </tr>\n",
       "    <tr>\n",
       "      <th>Arizona</th>\n",
       "      <td>40</td>\n",
       "      <td>4</td>\n",
       "      <td>8</td>\n",
       "      <td>4</td>\n",
       "      <td>7151502</td>\n",
       "      <td>7177986</td>\n",
       "      <td>7276316</td>\n",
       "      <td>26484</td>\n",
       "      <td>98330</td>\n",
       "      <td>18036</td>\n",
       "      <td>...</td>\n",
       "      <td>26791</td>\n",
       "      <td>97504</td>\n",
       "      <td>-3</td>\n",
       "      <td>-6</td>\n",
       "      <td>10.584669</td>\n",
       "      <td>10.469547</td>\n",
       "      <td>0.115121</td>\n",
       "      <td>0.619608</td>\n",
       "      <td>12.871739</td>\n",
       "      <td>13.491347</td>\n",
       "    </tr>\n",
       "    <tr>\n",
       "      <th>Arkansas</th>\n",
       "      <td>40</td>\n",
       "      <td>3</td>\n",
       "      <td>7</td>\n",
       "      <td>5</td>\n",
       "      <td>3011524</td>\n",
       "      <td>3012232</td>\n",
       "      <td>3025891</td>\n",
       "      <td>708</td>\n",
       "      <td>13659</td>\n",
       "      <td>8554</td>\n",
       "      <td>...</td>\n",
       "      <td>1618</td>\n",
       "      <td>16840</td>\n",
       "      <td>-15</td>\n",
       "      <td>55</td>\n",
       "      <td>11.599962</td>\n",
       "      <td>12.671819</td>\n",
       "      <td>-1.071856</td>\n",
       "      <td>0.272932</td>\n",
       "      <td>5.304960</td>\n",
       "      <td>5.577892</td>\n",
       "    </tr>\n",
       "    <tr>\n",
       "      <th>California</th>\n",
       "      <td>40</td>\n",
       "      <td>4</td>\n",
       "      <td>9</td>\n",
       "      <td>6</td>\n",
       "      <td>39538223</td>\n",
       "      <td>39499738</td>\n",
       "      <td>39237836</td>\n",
       "      <td>-38485</td>\n",
       "      <td>-261902</td>\n",
       "      <td>104957</td>\n",
       "      <td>...</td>\n",
       "      <td>-62562</td>\n",
       "      <td>-352960</td>\n",
       "      <td>858</td>\n",
       "      <td>-938</td>\n",
       "      <td>10.778412</td>\n",
       "      <td>8.441637</td>\n",
       "      <td>2.336775</td>\n",
       "      <td>0.364223</td>\n",
       "      <td>-9.329701</td>\n",
       "      <td>-8.965478</td>\n",
       "    </tr>\n",
       "  </tbody>\n",
       "</table>\n",
       "<p>5 rows × 29 columns</p>\n",
       "</div>"
      ],
      "text/plain": [
       "            SUMLEV REGION DIVISION  STATE  ESTIMATESBASE2020  POPESTIMATE2020  \\\n",
       "NAME                                                                            \n",
       "Alabama         40      3        6      1            5024279          5024803   \n",
       "Alaska          40      4        9      2             733391           732441   \n",
       "Arizona         40      4        8      4            7151502          7177986   \n",
       "Arkansas        40      3        7      5            3011524          3012232   \n",
       "California      40      4        9      6           39538223         39499738   \n",
       "\n",
       "            POPESTIMATE2021  NPOPCHG_2020  NPOPCHG_2021  BIRTHS2020  ...  \\\n",
       "NAME                                                                 ...   \n",
       "Alabama             5039877           524         15074       13410  ...   \n",
       "Alaska               732673          -950           232        2407  ...   \n",
       "Arizona             7276316         26484         98330       18036  ...   \n",
       "Arkansas            3025891           708         13659        8554  ...   \n",
       "California         39237836        -38485       -261902      104957  ...   \n",
       "\n",
       "            NETMIG2020  NETMIG2021  RESIDUAL2020  RESIDUAL2021  RBIRTH2021  \\\n",
       "NAME                                                                         \n",
       "Alabama           3337       23380           -75           242   11.191613   \n",
       "Alaska           -2012       -3353            39           -54   12.667956   \n",
       "Arizona          26791       97504            -3            -6   10.584669   \n",
       "Arkansas          1618       16840           -15            55   11.599962   \n",
       "California      -62562     -352960           858          -938   10.778412   \n",
       "\n",
       "            RDEATH2021  RNATURALINC2021  RINTERNATIONALMIG2021  \\\n",
       "NAME                                                             \n",
       "Alabama      12.890226        -1.698613               0.247201   \n",
       "Alaska        7.700425         4.967532               0.718033   \n",
       "Arizona      10.469547         0.115121               0.619608   \n",
       "Arkansas     12.671819        -1.071856               0.272932   \n",
       "California    8.441637         2.336775               0.364223   \n",
       "\n",
       "            RDOMESTICMIG2021  RNETMIG2021  \n",
       "NAME                                       \n",
       "Alabama             4.398749     4.645950  \n",
       "Alaska             -5.295151    -4.577118  \n",
       "Arizona            12.871739    13.491347  \n",
       "Arkansas            5.304960     5.577892  \n",
       "California         -9.329701    -8.965478  \n",
       "\n",
       "[5 rows x 29 columns]"
      ]
     },
     "execution_count": 101,
     "metadata": {},
     "output_type": "execute_result"
    }
   ],
   "source": [
    "backright = states[states[\"STATE\"] > 0]\n",
    "backright.head()"
   ]
  },
  {
   "cell_type": "code",
   "execution_count": 103,
   "id": "296a6930-fb08-4608-8312-44f4c2dad817",
   "metadata": {},
   "outputs": [
    {
     "data": {
      "text/plain": [
       "NAME\n",
       "Alabama                  48720\n",
       "Alaska                    4257\n",
       "Arizona                  57325\n",
       "Arkansas                 28808\n",
       "California              250599\n",
       "Colorado                 36153\n",
       "Connecticut              28218\n",
       "Delaware                  9006\n",
       "District of Columbia      5165\n",
       "Florida                 191957\n",
       "Georgia                  79612\n",
       "Hawaii                   10875\n",
       "Idaho                    12468\n",
       "Illinois                 97833\n",
       "Indiana                  57242\n",
       "Iowa                     26533\n",
       "Kansas                   23426\n",
       "Kentucky                 42296\n",
       "Louisiana                41875\n",
       "Maine                    13128\n",
       "Maryland                 46526\n",
       "Massachusetts            53078\n",
       "Michigan                 87886\n",
       "Minnesota                40175\n",
       "Mississippi              28401\n",
       "Missouri                 54759\n",
       "Montana                   8972\n",
       "Nebraska                 14172\n",
       "Nevada                   23914\n",
       "New Hampshire            11499\n",
       "New Jersey               68541\n",
       "New Mexico               17274\n",
       "New York                145690\n",
       "North Carolina           86857\n",
       "North Dakota              5472\n",
       "Ohio                    107579\n",
       "Oklahoma                 37070\n",
       "Oregon                   33258\n",
       "Pennsylvania            119350\n",
       "Rhode Island              8931\n",
       "South Carolina           47386\n",
       "South Dakota              6679\n",
       "Tennessee                63071\n",
       "Texas                   188468\n",
       "Utah                     16462\n",
       "Vermont                   5080\n",
       "Virginia                 63816\n",
       "Washington               53193\n",
       "West Virginia            20107\n",
       "Wisconsin                46791\n",
       "Wyoming                   4542\n",
       "Puerto Rico              25386\n",
       "dtype: int64"
      ]
     },
     "execution_count": 103,
     "metadata": {},
     "output_type": "execute_result"
    }
   ],
   "source": [
    "sb = sideboard\n",
    "sb[\"DEATHS2021\"] - sb[\"DEATHS2020\"]"
   ]
  },
  {
   "cell_type": "code",
   "execution_count": 104,
   "id": "bc0f3367-cf7b-4fa5-afa5-9cbb7e1de824",
   "metadata": {},
   "outputs": [
    {
     "data": {
      "text/plain": [
       "NAME\n",
       "Alabama                 False\n",
       "Alaska                  False\n",
       "Arizona                 False\n",
       "Arkansas                False\n",
       "California              False\n",
       "Colorado                False\n",
       "Connecticut             False\n",
       "Delaware                False\n",
       "District of Columbia    False\n",
       "Florida                 False\n",
       "Georgia                 False\n",
       "Hawaii                  False\n",
       "Idaho                   False\n",
       "Illinois                False\n",
       "Indiana                 False\n",
       "Iowa                    False\n",
       "Kansas                  False\n",
       "Kentucky                False\n",
       "Louisiana               False\n",
       "Maine                   False\n",
       "Maryland                False\n",
       "Massachusetts           False\n",
       "Michigan                False\n",
       "Minnesota               False\n",
       "Mississippi             False\n",
       "Missouri                False\n",
       "Montana                 False\n",
       "Nebraska                False\n",
       "Nevada                  False\n",
       "New Hampshire           False\n",
       "New Jersey              False\n",
       "New Mexico              False\n",
       "New York                False\n",
       "North Carolina          False\n",
       "North Dakota            False\n",
       "Ohio                    False\n",
       "Oklahoma                False\n",
       "Oregon                  False\n",
       "Pennsylvania            False\n",
       "Rhode Island            False\n",
       "South Carolina          False\n",
       "South Dakota            False\n",
       "Tennessee               False\n",
       "Texas                   False\n",
       "Utah                    False\n",
       "Vermont                 False\n",
       "Virginia                False\n",
       "Washington              False\n",
       "West Virginia           False\n",
       "Wisconsin               False\n",
       "Wyoming                 False\n",
       "Puerto Rico             False\n",
       "dtype: bool"
      ]
     },
     "execution_count": 104,
     "metadata": {},
     "output_type": "execute_result"
    }
   ],
   "source": [
    "sb[\"DEATHS2021\"] - sb[\"DEATHS2020\"] < 0"
   ]
  },
  {
   "cell_type": "code",
   "execution_count": 105,
   "id": "b30590fd-d70c-4ac4-9556-5b2aceb7fe21",
   "metadata": {},
   "outputs": [
    {
     "data": {
      "text/html": [
       "<div>\n",
       "<style scoped>\n",
       "    .dataframe tbody tr th:only-of-type {\n",
       "        vertical-align: middle;\n",
       "    }\n",
       "\n",
       "    .dataframe tbody tr th {\n",
       "        vertical-align: top;\n",
       "    }\n",
       "\n",
       "    .dataframe thead th {\n",
       "        text-align: right;\n",
       "    }\n",
       "</style>\n",
       "<table border=\"1\" class=\"dataframe\">\n",
       "  <thead>\n",
       "    <tr style=\"text-align: right;\">\n",
       "      <th></th>\n",
       "      <th>State</th>\n",
       "      <th>Population</th>\n",
       "      <th>lat</th>\n",
       "      <th>lon</th>\n",
       "    </tr>\n",
       "    <tr>\n",
       "      <th>City</th>\n",
       "      <th></th>\n",
       "      <th></th>\n",
       "      <th></th>\n",
       "      <th></th>\n",
       "    </tr>\n",
       "  </thead>\n",
       "  <tbody>\n",
       "    <tr>\n",
       "      <th>Perris</th>\n",
       "      <td>California</td>\n",
       "      <td>72326</td>\n",
       "      <td>33.782519</td>\n",
       "      <td>-117.228648</td>\n",
       "    </tr>\n",
       "    <tr>\n",
       "      <th>Buena Park</th>\n",
       "      <td>California</td>\n",
       "      <td>82882</td>\n",
       "      <td>33.867514</td>\n",
       "      <td>-117.998118</td>\n",
       "    </tr>\n",
       "    <tr>\n",
       "      <th>Westminster</th>\n",
       "      <td>California</td>\n",
       "      <td>91739</td>\n",
       "      <td>33.751342</td>\n",
       "      <td>-117.993992</td>\n",
       "    </tr>\n",
       "    <tr>\n",
       "      <th>Rancho Palos Verdes</th>\n",
       "      <td>California</td>\n",
       "      <td>42448</td>\n",
       "      <td>33.744461</td>\n",
       "      <td>-118.387017</td>\n",
       "    </tr>\n",
       "    <tr>\n",
       "      <th>Sacramento</th>\n",
       "      <td>California</td>\n",
       "      <td>479686</td>\n",
       "      <td>38.581572</td>\n",
       "      <td>-121.494400</td>\n",
       "    </tr>\n",
       "    <tr>\n",
       "      <th>...</th>\n",
       "      <td>...</td>\n",
       "      <td>...</td>\n",
       "      <td>...</td>\n",
       "      <td>...</td>\n",
       "    </tr>\n",
       "    <tr>\n",
       "      <th>Stanton</th>\n",
       "      <td>California</td>\n",
       "      <td>38623</td>\n",
       "      <td>33.802516</td>\n",
       "      <td>-117.993116</td>\n",
       "    </tr>\n",
       "    <tr>\n",
       "      <th>Santa Clara</th>\n",
       "      <td>California</td>\n",
       "      <td>120245</td>\n",
       "      <td>37.354108</td>\n",
       "      <td>-121.955236</td>\n",
       "    </tr>\n",
       "    <tr>\n",
       "      <th>Oceanside</th>\n",
       "      <td>California</td>\n",
       "      <td>172794</td>\n",
       "      <td>33.195870</td>\n",
       "      <td>-117.379483</td>\n",
       "    </tr>\n",
       "    <tr>\n",
       "      <th>Lake Forest</th>\n",
       "      <td>California</td>\n",
       "      <td>79312</td>\n",
       "      <td>33.646966</td>\n",
       "      <td>-117.689218</td>\n",
       "    </tr>\n",
       "    <tr>\n",
       "      <th>Compton</th>\n",
       "      <td>California</td>\n",
       "      <td>97877</td>\n",
       "      <td>33.895849</td>\n",
       "      <td>-118.220071</td>\n",
       "    </tr>\n",
       "  </tbody>\n",
       "</table>\n",
       "<p>212 rows × 4 columns</p>\n",
       "</div>"
      ],
      "text/plain": [
       "                          State  Population        lat         lon\n",
       "City                                                              \n",
       "Perris               California       72326  33.782519 -117.228648\n",
       "Buena Park           California       82882  33.867514 -117.998118\n",
       "Westminster          California       91739  33.751342 -117.993992\n",
       "Rancho Palos Verdes  California       42448  33.744461 -118.387017\n",
       "Sacramento           California      479686  38.581572 -121.494400\n",
       "...                         ...         ...        ...         ...\n",
       "Stanton              California       38623  33.802516 -117.993116\n",
       "Santa Clara          California      120245  37.354108 -121.955236\n",
       "Oceanside            California      172794  33.195870 -117.379483\n",
       "Lake Forest          California       79312  33.646966 -117.689218\n",
       "Compton              California       97877  33.895849 -118.220071\n",
       "\n",
       "[212 rows x 4 columns]"
      ]
     },
     "execution_count": 105,
     "metadata": {},
     "output_type": "execute_result"
    }
   ],
   "source": [
    "cities[cities[\"State\"] == 'California']"
   ]
  },
  {
   "cell_type": "code",
   "execution_count": 106,
   "id": "807196da-f342-4644-8f27-5a0d0b1bea67",
   "metadata": {},
   "outputs": [
    {
     "data": {
      "text/plain": [
       "0.212"
      ]
     },
     "execution_count": 106,
     "metadata": {},
     "output_type": "execute_result"
    }
   ],
   "source": [
    "cali = cities[cities[\"State\"] == 'California']\n",
    "len(cali) / len(cities)"
   ]
  },
  {
   "cell_type": "code",
   "execution_count": 108,
   "id": "9a4b5c71-47d6-4c6f-9588-3994368a9560",
   "metadata": {},
   "outputs": [
    {
     "data": {
      "text/plain": [
       "0.033"
      ]
     },
     "execution_count": 108,
     "metadata": {},
     "output_type": "execute_result"
    }
   ],
   "source": [
    "big = cities[cities[\"Population\"] > 500000]\n",
    "len(big) / len(cities)"
   ]
  },
  {
   "cell_type": "code",
   "execution_count": 109,
   "id": "01eab14c-f46c-440b-8bf2-42ad89976c7b",
   "metadata": {},
   "outputs": [
    {
     "data": {
      "text/plain": [
       "0.0069960000000000005"
      ]
     },
     "execution_count": 109,
     "metadata": {},
     "output_type": "execute_result"
    }
   ],
   "source": [
    ".212 * .033"
   ]
  },
  {
   "cell_type": "code",
   "execution_count": 111,
   "id": "6abb5514-b88b-4045-a6f6-3716e178a2af",
   "metadata": {},
   "outputs": [
    {
     "data": {
      "text/plain": [
       "0.004"
      ]
     },
     "execution_count": 111,
     "metadata": {},
     "output_type": "execute_result"
    }
   ],
   "source": [
    "bigcali = cities[(cities[\"State\"] == \"California\") & (cities[\"Population\"] > 500000)]\n",
    "len(bigcali) / len(cities)"
   ]
  },
  {
   "cell_type": "code",
   "execution_count": null,
   "id": "fd794e66-e622-4bea-a808-a6d00152f54c",
   "metadata": {},
   "outputs": [],
   "source": []
  }
 ],
 "metadata": {
  "kernelspec": {
   "display_name": "Python 3 (ipykernel)",
   "language": "python",
   "name": "python3"
  },
  "language_info": {
   "codemirror_mode": {
    "name": "ipython",
    "version": 3
   },
   "file_extension": ".py",
   "mimetype": "text/x-python",
   "name": "python",
   "nbconvert_exporter": "python",
   "pygments_lexer": "ipython3",
   "version": "3.12.7"
  }
 },
 "nbformat": 4,
 "nbformat_minor": 5
}
